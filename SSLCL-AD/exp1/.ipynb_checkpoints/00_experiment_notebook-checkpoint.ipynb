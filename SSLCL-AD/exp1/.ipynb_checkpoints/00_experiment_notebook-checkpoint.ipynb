{
 "cells": [
  {
   "cell_type": "markdown",
   "metadata": {},
   "source": [
    "# train"
   ]
  },
  {
   "cell_type": "code",
   "execution_count": 1,
   "metadata": {},
   "outputs": [
    {
     "name": "stderr",
     "output_type": "stream",
     "text": [
      "<ipython-input-1-1499ab5789c7>:5: YAMLLoadWarning: calling yaml.load() without Loader=... is deprecated, as the default Loader is unsafe. Please read https://msg.pyyaml.org/load for full details.\n",
      "  config = yaml.load(f)\n"
     ]
    }
   ],
   "source": [
    "import yaml\n",
    "import os\n",
    "\n",
    "with open(\"./config.yaml\", 'rb') as f:\n",
    "    config = yaml.load(f)"
   ]
  },
  {
   "cell_type": "code",
   "execution_count": 2,
   "metadata": {},
   "outputs": [],
   "source": [
    "OUTPUT_ROOT = config['IO_OPTION']['OUTPUT_ROOT']\n",
    "os.makedirs(OUTPUT_ROOT, exist_ok=True)"
   ]
  },
  {
   "cell_type": "markdown",
   "metadata": {},
   "source": [
    "## load library"
   ]
  },
  {
   "cell_type": "code",
   "execution_count": 3,
   "metadata": {},
   "outputs": [],
   "source": [
    "# python default library\n",
    "import os\n",
    "import shutil\n",
    "import datetime\n",
    "import sys\n",
    "import pickle\n",
    "\n",
    "# general analysis tool-kit\n",
    "import numpy as np\n",
    "import pandas as pd\n",
    "#from sklearn.model_selection import train_test_split\n",
    "import matplotlib.pyplot as plt\n",
    "import seaborn as sns\n",
    "\n",
    "# pytorch\n",
    "import torch\n",
    "from torch import optim, nn\n",
    "from torch.utils.tensorboard import SummaryWriter\n",
    "\n",
    "#from torchsummary import summary\n",
    "\n",
    "# etc\n",
    "import yaml\n",
    "yaml.warnings({'YAMLLoadWarning': False})\n",
    "\n",
    "# original library\n",
    "sys.path.append('../../')\n",
    "import common as com\n",
    "import pytorch_modeler as modeler\n",
    "from pytorch_model import ResNet38 as Model\n",
    "#from pytorch_utils import filtered_load_model\n",
    "#import models\n",
    "\n",
    "import librosa\n",
    "import IPython\n",
    "import librosa.display"
   ]
  },
  {
   "cell_type": "markdown",
   "metadata": {},
   "source": [
    "## load config and set logger"
   ]
  },
  {
   "cell_type": "code",
   "execution_count": 4,
   "metadata": {},
   "outputs": [],
   "source": [
    "log_folder = config['IO_OPTION']['OUTPUT_ROOT']+'/{0}.log'.format(datetime.date.today())\n",
    "logger = com.setup_logger(log_folder, '00_train.py')"
   ]
  },
  {
   "cell_type": "markdown",
   "metadata": {},
   "source": [
    "## Setting"
   ]
  },
  {
   "cell_type": "code",
   "execution_count": 5,
   "metadata": {},
   "outputs": [],
   "source": [
    "# Setting seed\n",
    "modeler.set_seed(42)"
   ]
  },
  {
   "cell_type": "code",
   "execution_count": 6,
   "metadata": {},
   "outputs": [
    {
     "data": {
      "text/plain": [
       "'/media/hiroki/HDD1TB/research/CL-VAE_experiments/output/CL-AD_MEAN/config.yaml'"
      ]
     },
     "execution_count": 6,
     "metadata": {},
     "output_type": "execute_result"
    }
   ],
   "source": [
    "############################################################################\n",
    "# Setting I/O path\n",
    "############################################################################\n",
    "# input dirs\n",
    "INPUT_ROOT = config['IO_OPTION']['INPUT_ROOT']\n",
    "dev_dir = INPUT_ROOT + \"/dev_data\"\n",
    "add_dev_dir = INPUT_ROOT + \"/add_dev_data\"\n",
    "# machine type\n",
    "machine_types = os.listdir(dev_dir)\n",
    "# output dirs\n",
    "OUTPUT_ROOT = config['IO_OPTION']['OUTPUT_ROOT']\n",
    "MODEL_DIR = config['IO_OPTION']['OUTPUT_ROOT'] + '/models'\n",
    "TB_DIR = config['IO_OPTION']['OUTPUT_ROOT'] + '/tb'\n",
    "OUT_FEATURE_DIR = OUTPUT_ROOT + '/extraction_features'\n",
    "OUT_SCORE_DIR = OUTPUT_ROOT + '/score'\n",
    "OUT_PRED_DIR = OUTPUT_ROOT + '/pred'\n",
    "#os.makedirs(OUTPUT_ROOT, exist_ok=True)\n",
    "os.makedirs(MODEL_DIR, exist_ok=True)\n",
    "os.makedirs(TB_DIR, exist_ok=True)\n",
    "os.makedirs(OUT_FEATURE_DIR, exist_ok=True)\n",
    "os.makedirs(OUT_SCORE_DIR, exist_ok=True)\n",
    "os.makedirs(OUT_PRED_DIR, exist_ok=True)\n",
    "# copy config\n",
    "shutil.copy('./config.yaml', OUTPUT_ROOT)"
   ]
  },
  {
   "cell_type": "code",
   "execution_count": 7,
   "metadata": {},
   "outputs": [
    {
     "data": {
      "text/plain": [
       "True"
      ]
     },
     "execution_count": 7,
     "metadata": {},
     "output_type": "execute_result"
    }
   ],
   "source": [
    "torch.cuda.is_available()"
   ]
  },
  {
   "cell_type": "markdown",
   "metadata": {},
   "source": [
    "## make path list"
   ]
  },
  {
   "cell_type": "markdown",
   "metadata": {},
   "source": [
    "- __train_paths__ ([dict]): Each Machine Type\n",
    "    - __ToyCar__ ([dict]): Each dataset\n",
    "        - train ([list]) : paths\n",
    "        - valid_source ([list]) : paths\n",
    "        - valid_target ([list]) :paths\n",
    "    - __ToyTrain__ ([dict]): Each dataset\n",
    "        - train ([list]) : paths\n",
    "        - valid_source ([list]) : paths\n",
    "        - valid_target ([list]) : paths\n",
    "    - ..."
   ]
  },
  {
   "cell_type": "code",
   "execution_count": 8,
   "metadata": {},
   "outputs": [],
   "source": [
    "dev_paths = {}\n",
    "\n",
    "for machine_type in machine_types:\n",
    "    # dev train\n",
    "    dev_train_paths = [f\"{dev_dir}/{machine_type}/train/\" + file for file in os.listdir(f\"{dev_dir}/{machine_type}/train\")]\n",
    "    dev_train_paths = sorted(dev_train_paths)\n",
    "    \n",
    "    # add_dev train\n",
    "    add_dev_paths = [f\"{add_dev_dir}/{machine_type}/train/\" + file for file in os.listdir(f\"{add_dev_dir}/{machine_type}/train\")]\n",
    "    add_dev_paths = sorted(add_dev_paths)\n",
    "    \n",
    "    # dev_source valid\n",
    "    dev_test_paths = [f\"{dev_dir}/{machine_type}/test/\" + file for file in os.listdir(f\"{dev_dir}/{machine_type}/test\")]\n",
    "    dev_test_paths = sorted(dev_test_paths)\n",
    "    \n",
    "    # dev_target valid\n",
    "    #dev_target_paths = [f\"{dev_dir}/{machine_type}/target_test/\" + file for file in os.listdir(f\"{dev_dir}/{machine_type}/target_test\")]\n",
    "    #dev_target_paths = sorted(dev_target_paths)\n",
    "    \n",
    "    # bundle\n",
    "    dev_paths[machine_type] = {}\n",
    "    dev_paths[machine_type]['train'] = dev_train_paths + add_dev_paths\n",
    "    dev_paths[machine_type]['dev_test'] = dev_test_paths"
   ]
  },
  {
   "cell_type": "code",
   "execution_count": 9,
   "metadata": {},
   "outputs": [],
   "source": [
    "#dev_paths['fan']['train'][-1]"
   ]
  },
  {
   "cell_type": "markdown",
   "metadata": {},
   "source": [
    "    # define writer for tensorbord\n",
    "    os.makedirs(TB_DIR+'/'+machine_type, exist_ok=True)\n",
    "    tb_log_dir = TB_DIR + '/' + machine_type\n",
    "    writer = SummaryWriter(log_dir = tb_log_dir)\n",
    "    # out path\n",
    "    model_out_path = MODEL_DIR+'/{}_model.pth'.format(machine_type)\n",
    "    score_out_path = OUT_SCORE_DIR + '/{}_score.csv'.format(machine_type)\n",
    "    pred_out_path = OUT_PRED_DIR + '/{}_pred.csv'.format(machine_type)\n",
    "    logger.info('TRAINING')\n",
    "    # parameter setting\n",
    "    in_features = ext_data['train']['features'].shape[1]\n",
    "    mid_size = config['param']['mid_size']\n",
    "    latent_size = config['param']['latent_size']\n",
    "    id_s = com.get_id(ext_data['train']['wav_names'])\n",
    "    num_classes = len(np.unique(id_s))\n",
    "    print(np.unique(id_s))\n",
    "    net = Model(in_features, mid_size, latent_size, num_classes)\n",
    "    optimizer = optim.Adam(net.parameters(), lr=1e-4)\n",
    "    num_epochs = config['param']['num_epochs']\n",
    "    #scheduler = optim.lr_scheduler.OneCycleLR(optimizer=optimizer, pct_start=0.1, div_factor=1e-2, \n",
    "    #                                          max_lr=1e-3, epochs=num_epochs, steps_per_epoch=len(dataloaders_dict['train']))\n",
    "    # training\n",
    "    output_dicts = modeler.train_net(net, dataloaders_dict, optimizer, num_epochs, writer, model_out_path, score_out_path, pred_out_path)\n",
    "    \n",
    "    com.toc()"
   ]
  },
  {
   "cell_type": "markdown",
   "metadata": {},
   "source": [
    "## training"
   ]
  },
  {
   "cell_type": "code",
   "execution_count": 10,
   "metadata": {},
   "outputs": [],
   "source": [
    "#############################################################################\n",
    "# run\n",
    "#############################################################################\n",
    "def run(machine_type, dev_paths):\n",
    "    com.tic()\n",
    "    \n",
    "    logger.info('TARGET MACHINE_TYPE: {0}'.format(machine_type))\n",
    "    logger.info('MAKE DATA_LOADER')\n",
    "    # dev_train_paths\n",
    "    dataloaders_dict = modeler.make_dataloader(dev_paths, machine_type)\n",
    "    # define writer for tensorbord\n",
    "    os.makedirs(TB_DIR+'/'+machine_type, exist_ok=True)\n",
    "    tb_log_dir = TB_DIR + '/' + machine_type\n",
    "    writer = SummaryWriter(log_dir = tb_log_dir)\n",
    "    # out path\n",
    "    model_out_path = MODEL_DIR+'/{}_model.pth'.format(machine_type)\n",
    "    score_out_path = OUT_SCORE_DIR + '/{}_score.csv'.format(machine_type)\n",
    "    pred_out_path = OUT_PRED_DIR + '/{}_pred.csv'.format(machine_type)\n",
    "    # parameter setting\n",
    "    logger.info('training')\n",
    "    id_s = com.get_id(dev_paths[machine_type]['train'])\n",
    "    num_classes = len(np.unique(id_s))\n",
    "    print(np.unique(id_s))\n",
    "    net = Model(sample_rate=config['param']['sample_rate'],\n",
    "                window_size=config['param']['window_size'],\n",
    "                hop_size=config['param']['hop_size'],\n",
    "                mel_bins=config['param']['mel_bins'],\n",
    "                fmin=config['param']['fmin'],\n",
    "                fmax=config['param']['fmax'],\n",
    "                num_classes=num_classes)\n",
    "    pretrained_dict = torch.load(config['IO_OPTION']['PREMODEL_ROOT'])\n",
    "    net.load_state_dict(pretrained_dict['model'], strict=False)\n",
    "    #for param in net.parameters():\n",
    "    #    param.requires_grad = False\n",
    "    #print(list(net.children()))\n",
    "    #grad_layers = list(net.children())[-1]\n",
    "    #print(grad_layers)\n",
    "    #for grad_layer in grad_layers:\n",
    "    #for param in grad_layers.parameters():\n",
    "    #    param.requires_grad = True\n",
    "    optimizer = optim.Adam(net.parameters(), lr=1e-3)\n",
    "    num_epochs = config['param']['num_epochs']\n",
    "    output_dicts = modeler.train_net(net, dataloaders_dict, optimizer, num_epochs, writer, model_out_path, score_out_path, pred_out_path, num_classes)\n",
    "    \n",
    "    #out_path = f'{OUT_FEATURE_DIR}/{machine_type}_features.pkl'\n",
    "    #pd.to_pickle(output_dicts, out_path)\n",
    "    #logger.info(f'SAVE SUCCESS : {out_path}')\n",
    "    \n",
    "    com.toc()"
   ]
  },
  {
   "cell_type": "code",
   "execution_count": 11,
   "metadata": {},
   "outputs": [
    {
     "data": {
      "text/plain": [
       "['fan', 'pump', 'slider', 'ToyCar', 'ToyConveyor', 'valve']"
      ]
     },
     "execution_count": 11,
     "metadata": {},
     "output_type": "execute_result"
    }
   ],
   "source": [
    "machine_types"
   ]
  },
  {
   "cell_type": "markdown",
   "metadata": {},
   "source": [
    "# run"
   ]
  },
  {
   "cell_type": "code",
   "execution_count": 12,
   "metadata": {
    "code_folding": [],
    "scrolled": true
   },
   "outputs": [],
   "source": [
    "# for machine_type in machine_types:\n",
    "#     run(machine_type, dev_paths)"
   ]
  },
  {
   "cell_type": "code",
   "execution_count": 13,
   "metadata": {},
   "outputs": [
    {
     "name": "stderr",
     "output_type": "stream",
     "text": [
      "2021-07-30 20:31:07,448 - 00_train.py - INFO - TARGET MACHINE_TYPE: slider\n",
      "2021-07-30 20:31:07,449 - 00_train.py - INFO - MAKE DATA_LOADER\n",
      "2021-07-30 20:31:08,280 - 00_train.py - INFO - training\n"
     ]
    },
    {
     "name": "stdout",
     "output_type": "stream",
     "text": [
      "[0 1 2 3 4 5 6]\n"
     ]
    },
    {
     "name": "stderr",
     "output_type": "stream",
     "text": [
      "\r",
      "  0%|          | 0/21 [00:00<?, ?it/s]"
     ]
    },
    {
     "name": "stdout",
     "output_type": "stream",
     "text": [
      "use: cuda:0\n"
     ]
    },
    {
     "name": "stderr",
     "output_type": "stream",
     "text": [
      "100%|██████████| 21/21 [00:19<00:00,  1.09it/s]\n",
      "100%|██████████| 6/6 [00:02<00:00,  2.47it/s]\n",
      "2021-07-30 20:31:33,599 - pytorch_modeler.py - INFO - epoch:1/50, tr_loss:-0.015088, val_loss:-0.017712, val_AUC_hmean:0.423590, val_pAUC_hmean:0.491152,\n"
     ]
    },
    {
     "data": {
      "text/html": [
       "<div>\n",
       "<style scoped>\n",
       "    .dataframe tbody tr th:only-of-type {\n",
       "        vertical-align: middle;\n",
       "    }\n",
       "\n",
       "    .dataframe tbody tr th {\n",
       "        vertical-align: top;\n",
       "    }\n",
       "\n",
       "    .dataframe thead th {\n",
       "        text-align: right;\n",
       "    }\n",
       "</style>\n",
       "<table border=\"1\" class=\"dataframe\">\n",
       "  <thead>\n",
       "    <tr style=\"text-align: right;\">\n",
       "      <th></th>\n",
       "      <th>AUC</th>\n",
       "      <th>pAUC</th>\n",
       "    </tr>\n",
       "  </thead>\n",
       "  <tbody>\n",
       "    <tr>\n",
       "      <th>id_0</th>\n",
       "      <td>0.533596</td>\n",
       "      <td>0.475902</td>\n",
       "    </tr>\n",
       "    <tr>\n",
       "      <th>id_2</th>\n",
       "      <td>0.336217</td>\n",
       "      <td>0.492214</td>\n",
       "    </tr>\n",
       "    <tr>\n",
       "      <th>id_4</th>\n",
       "      <td>0.509382</td>\n",
       "      <td>0.509166</td>\n",
       "    </tr>\n",
       "    <tr>\n",
       "      <th>id_6</th>\n",
       "      <td>0.380000</td>\n",
       "      <td>0.488468</td>\n",
       "    </tr>\n",
       "    <tr>\n",
       "      <th>mean</th>\n",
       "      <td>0.439799</td>\n",
       "      <td>0.491438</td>\n",
       "    </tr>\n",
       "    <tr>\n",
       "      <th>h_mean</th>\n",
       "      <td>0.423590</td>\n",
       "      <td>0.491152</td>\n",
       "    </tr>\n",
       "  </tbody>\n",
       "</table>\n",
       "</div>"
      ],
      "text/plain": [
       "             AUC      pAUC\n",
       "id_0    0.533596  0.475902\n",
       "id_2    0.336217  0.492214\n",
       "id_4    0.509382  0.509166\n",
       "id_6    0.380000  0.488468\n",
       "mean    0.439799  0.491438\n",
       "h_mean  0.423590  0.491152"
      ]
     },
     "metadata": {},
     "output_type": "display_data"
    },
    {
     "name": "stderr",
     "output_type": "stream",
     "text": [
      "100%|██████████| 21/21 [00:17<00:00,  1.23it/s]\n",
      "100%|██████████| 6/6 [00:02<00:00,  2.41it/s]\n",
      "2021-07-30 20:31:53,672 - pytorch_modeler.py - INFO - epoch:2/50, tr_loss:-0.097413, val_loss:-0.041403, val_AUC_hmean:0.210594, val_pAUC_hmean:0.530862,\n"
     ]
    },
    {
     "data": {
      "text/html": [
       "<div>\n",
       "<style scoped>\n",
       "    .dataframe tbody tr th:only-of-type {\n",
       "        vertical-align: middle;\n",
       "    }\n",
       "\n",
       "    .dataframe tbody tr th {\n",
       "        vertical-align: top;\n",
       "    }\n",
       "\n",
       "    .dataframe thead th {\n",
       "        text-align: right;\n",
       "    }\n",
       "</style>\n",
       "<table border=\"1\" class=\"dataframe\">\n",
       "  <thead>\n",
       "    <tr style=\"text-align: right;\">\n",
       "      <th></th>\n",
       "      <th>AUC</th>\n",
       "      <th>pAUC</th>\n",
       "    </tr>\n",
       "  </thead>\n",
       "  <tbody>\n",
       "    <tr>\n",
       "      <th>id_0</th>\n",
       "      <td>0.932781</td>\n",
       "      <td>0.657303</td>\n",
       "    </tr>\n",
       "    <tr>\n",
       "      <th>id_2</th>\n",
       "      <td>0.556030</td>\n",
       "      <td>0.546028</td>\n",
       "    </tr>\n",
       "    <tr>\n",
       "      <th>id_4</th>\n",
       "      <td>0.080843</td>\n",
       "      <td>0.482850</td>\n",
       "    </tr>\n",
       "    <tr>\n",
       "      <th>id_6</th>\n",
       "      <td>0.266404</td>\n",
       "      <td>0.473684</td>\n",
       "    </tr>\n",
       "    <tr>\n",
       "      <th>mean</th>\n",
       "      <td>0.459015</td>\n",
       "      <td>0.539966</td>\n",
       "    </tr>\n",
       "    <tr>\n",
       "      <th>h_mean</th>\n",
       "      <td>0.210594</td>\n",
       "      <td>0.530862</td>\n",
       "    </tr>\n",
       "  </tbody>\n",
       "</table>\n",
       "</div>"
      ],
      "text/plain": [
       "             AUC      pAUC\n",
       "id_0    0.932781  0.657303\n",
       "id_2    0.556030  0.546028\n",
       "id_4    0.080843  0.482850\n",
       "id_6    0.266404  0.473684\n",
       "mean    0.459015  0.539966\n",
       "h_mean  0.210594  0.530862"
      ]
     },
     "metadata": {},
     "output_type": "display_data"
    },
    {
     "name": "stderr",
     "output_type": "stream",
     "text": [
      "100%|██████████| 21/21 [00:17<00:00,  1.18it/s]\n",
      "100%|██████████| 6/6 [00:02<00:00,  2.35it/s]\n",
      "2021-07-30 20:32:14,580 - pytorch_modeler.py - INFO - epoch:3/50, tr_loss:-0.209807, val_loss:-0.173281, val_AUC_hmean:0.308006, val_pAUC_hmean:0.492873,\n",
      "100%|██████████| 21/21 [00:17<00:00,  1.21it/s]\n",
      "100%|██████████| 6/6 [00:02<00:00,  2.43it/s]\n",
      "2021-07-30 20:32:34,415 - pytorch_modeler.py - INFO - epoch:4/50, tr_loss:-0.292064, val_loss:-0.193292, val_AUC_hmean:0.394218, val_pAUC_hmean:0.494487,\n",
      "100%|██████████| 21/21 [00:18<00:00,  1.15it/s]\n",
      "100%|██████████| 6/6 [00:02<00:00,  2.19it/s]\n",
      "2021-07-30 20:32:55,532 - pytorch_modeler.py - INFO - epoch:5/50, tr_loss:-0.346809, val_loss:-0.227190, val_AUC_hmean:0.720288, val_pAUC_hmean:0.498095,\n",
      "100%|██████████| 21/21 [00:17<00:00,  1.20it/s]\n",
      "100%|██████████| 6/6 [00:02<00:00,  2.40it/s]\n",
      "2021-07-30 20:33:15,632 - pytorch_modeler.py - INFO - epoch:6/50, tr_loss:-0.396782, val_loss:-0.224319, val_AUC_hmean:0.668444, val_pAUC_hmean:0.531985,\n"
     ]
    },
    {
     "data": {
      "text/html": [
       "<div>\n",
       "<style scoped>\n",
       "    .dataframe tbody tr th:only-of-type {\n",
       "        vertical-align: middle;\n",
       "    }\n",
       "\n",
       "    .dataframe tbody tr th {\n",
       "        vertical-align: top;\n",
       "    }\n",
       "\n",
       "    .dataframe thead th {\n",
       "        text-align: right;\n",
       "    }\n",
       "</style>\n",
       "<table border=\"1\" class=\"dataframe\">\n",
       "  <thead>\n",
       "    <tr style=\"text-align: right;\">\n",
       "      <th></th>\n",
       "      <th>AUC</th>\n",
       "      <th>pAUC</th>\n",
       "    </tr>\n",
       "  </thead>\n",
       "  <tbody>\n",
       "    <tr>\n",
       "      <th>id_0</th>\n",
       "      <td>0.690028</td>\n",
       "      <td>0.500148</td>\n",
       "    </tr>\n",
       "    <tr>\n",
       "      <th>id_2</th>\n",
       "      <td>0.571461</td>\n",
       "      <td>0.542283</td>\n",
       "    </tr>\n",
       "    <tr>\n",
       "      <th>id_4</th>\n",
       "      <td>0.803989</td>\n",
       "      <td>0.618865</td>\n",
       "    </tr>\n",
       "    <tr>\n",
       "      <th>id_6</th>\n",
       "      <td>0.648876</td>\n",
       "      <td>0.485512</td>\n",
       "    </tr>\n",
       "    <tr>\n",
       "      <th>mean</th>\n",
       "      <td>0.678588</td>\n",
       "      <td>0.536702</td>\n",
       "    </tr>\n",
       "    <tr>\n",
       "      <th>h_mean</th>\n",
       "      <td>0.668444</td>\n",
       "      <td>0.531985</td>\n",
       "    </tr>\n",
       "  </tbody>\n",
       "</table>\n",
       "</div>"
      ],
      "text/plain": [
       "             AUC      pAUC\n",
       "id_0    0.690028  0.500148\n",
       "id_2    0.571461  0.542283\n",
       "id_4    0.803989  0.618865\n",
       "id_6    0.648876  0.485512\n",
       "mean    0.678588  0.536702\n",
       "h_mean  0.668444  0.531985"
      ]
     },
     "metadata": {},
     "output_type": "display_data"
    },
    {
     "name": "stderr",
     "output_type": "stream",
     "text": [
      "100%|██████████| 21/21 [00:17<00:00,  1.17it/s]\n",
      "100%|██████████| 6/6 [00:02<00:00,  2.32it/s]\n",
      "2021-07-30 20:33:36,663 - pytorch_modeler.py - INFO - epoch:7/50, tr_loss:-0.441322, val_loss:-0.207521, val_AUC_hmean:0.800848, val_pAUC_hmean:0.549449,\n"
     ]
    },
    {
     "data": {
      "text/html": [
       "<div>\n",
       "<style scoped>\n",
       "    .dataframe tbody tr th:only-of-type {\n",
       "        vertical-align: middle;\n",
       "    }\n",
       "\n",
       "    .dataframe tbody tr th {\n",
       "        vertical-align: top;\n",
       "    }\n",
       "\n",
       "    .dataframe thead th {\n",
       "        text-align: right;\n",
       "    }\n",
       "</style>\n",
       "<table border=\"1\" class=\"dataframe\">\n",
       "  <thead>\n",
       "    <tr style=\"text-align: right;\">\n",
       "      <th></th>\n",
       "      <th>AUC</th>\n",
       "      <th>pAUC</th>\n",
       "    </tr>\n",
       "  </thead>\n",
       "  <tbody>\n",
       "    <tr>\n",
       "      <th>id_0</th>\n",
       "      <td>0.676713</td>\n",
       "      <td>0.495565</td>\n",
       "    </tr>\n",
       "    <tr>\n",
       "      <th>id_2</th>\n",
       "      <td>0.821011</td>\n",
       "      <td>0.583481</td>\n",
       "    </tr>\n",
       "    <tr>\n",
       "      <th>id_4</th>\n",
       "      <td>0.940562</td>\n",
       "      <td>0.689533</td>\n",
       "    </tr>\n",
       "    <tr>\n",
       "      <th>id_6</th>\n",
       "      <td>0.809213</td>\n",
       "      <td>0.476641</td>\n",
       "    </tr>\n",
       "    <tr>\n",
       "      <th>mean</th>\n",
       "      <td>0.811875</td>\n",
       "      <td>0.561305</td>\n",
       "    </tr>\n",
       "    <tr>\n",
       "      <th>h_mean</th>\n",
       "      <td>0.800848</td>\n",
       "      <td>0.549449</td>\n",
       "    </tr>\n",
       "  </tbody>\n",
       "</table>\n",
       "</div>"
      ],
      "text/plain": [
       "             AUC      pAUC\n",
       "id_0    0.676713  0.495565\n",
       "id_2    0.821011  0.583481\n",
       "id_4    0.940562  0.689533\n",
       "id_6    0.809213  0.476641\n",
       "mean    0.811875  0.561305\n",
       "h_mean  0.800848  0.549449"
      ]
     },
     "metadata": {},
     "output_type": "display_data"
    },
    {
     "name": "stderr",
     "output_type": "stream",
     "text": [
      "100%|██████████| 21/21 [00:18<00:00,  1.15it/s]\n",
      "100%|██████████| 6/6 [00:02<00:00,  2.42it/s]\n",
      "2021-07-30 20:33:57,860 - pytorch_modeler.py - INFO - epoch:8/50, tr_loss:-0.464259, val_loss:-0.211173, val_AUC_hmean:0.473970, val_pAUC_hmean:0.538547,\n",
      "100%|██████████| 21/21 [00:18<00:00,  1.11it/s]\n",
      "100%|██████████| 6/6 [00:02<00:00,  2.25it/s]\n",
      "2021-07-30 20:34:19,439 - pytorch_modeler.py - INFO - epoch:9/50, tr_loss:-0.488704, val_loss:-0.201716, val_AUC_hmean:0.138168, val_pAUC_hmean:0.521735,\n",
      "100%|██████████| 21/21 [00:18<00:00,  1.16it/s]\n",
      "100%|██████████| 6/6 [00:02<00:00,  2.39it/s]\n",
      "2021-07-30 20:34:40,083 - pytorch_modeler.py - INFO - epoch:10/50, tr_loss:-0.508960, val_loss:-0.144929, val_AUC_hmean:0.236032, val_pAUC_hmean:0.501813,\n",
      "100%|██████████| 21/21 [00:18<00:00,  1.14it/s]\n",
      "100%|██████████| 6/6 [00:02<00:00,  2.32it/s]\n",
      "2021-07-30 20:35:01,071 - pytorch_modeler.py - INFO - epoch:11/50, tr_loss:-0.522203, val_loss:-0.240550, val_AUC_hmean:0.238484, val_pAUC_hmean:0.576610,\n"
     ]
    },
    {
     "data": {
      "text/html": [
       "<div>\n",
       "<style scoped>\n",
       "    .dataframe tbody tr th:only-of-type {\n",
       "        vertical-align: middle;\n",
       "    }\n",
       "\n",
       "    .dataframe tbody tr th {\n",
       "        vertical-align: top;\n",
       "    }\n",
       "\n",
       "    .dataframe thead th {\n",
       "        text-align: right;\n",
       "    }\n",
       "</style>\n",
       "<table border=\"1\" class=\"dataframe\">\n",
       "  <thead>\n",
       "    <tr style=\"text-align: right;\">\n",
       "      <th></th>\n",
       "      <th>AUC</th>\n",
       "      <th>pAUC</th>\n",
       "    </tr>\n",
       "  </thead>\n",
       "  <tbody>\n",
       "    <tr>\n",
       "      <th>id_0</th>\n",
       "      <td>0.689466</td>\n",
       "      <td>0.573625</td>\n",
       "    </tr>\n",
       "    <tr>\n",
       "      <th>id_2</th>\n",
       "      <td>0.102172</td>\n",
       "      <td>0.491031</td>\n",
       "    </tr>\n",
       "    <tr>\n",
       "      <th>id_4</th>\n",
       "      <td>0.223764</td>\n",
       "      <td>0.560319</td>\n",
       "    </tr>\n",
       "    <tr>\n",
       "      <th>id_6</th>\n",
       "      <td>0.938202</td>\n",
       "      <td>0.728563</td>\n",
       "    </tr>\n",
       "    <tr>\n",
       "      <th>mean</th>\n",
       "      <td>0.488401</td>\n",
       "      <td>0.588385</td>\n",
       "    </tr>\n",
       "    <tr>\n",
       "      <th>h_mean</th>\n",
       "      <td>0.238484</td>\n",
       "      <td>0.576610</td>\n",
       "    </tr>\n",
       "  </tbody>\n",
       "</table>\n",
       "</div>"
      ],
      "text/plain": [
       "             AUC      pAUC\n",
       "id_0    0.689466  0.573625\n",
       "id_2    0.102172  0.491031\n",
       "id_4    0.223764  0.560319\n",
       "id_6    0.938202  0.728563\n",
       "mean    0.488401  0.588385\n",
       "h_mean  0.238484  0.576610"
      ]
     },
     "metadata": {},
     "output_type": "display_data"
    },
    {
     "name": "stderr",
     "output_type": "stream",
     "text": [
      "100%|██████████| 21/21 [00:17<00:00,  1.18it/s]\n",
      "100%|██████████| 6/6 [00:02<00:00,  2.18it/s]\n",
      "2021-07-30 20:35:22,190 - pytorch_modeler.py - INFO - epoch:12/50, tr_loss:-0.532734, val_loss:-0.211904, val_AUC_hmean:0.061103, val_pAUC_hmean:0.488426,\n",
      "100%|██████████| 21/21 [00:18<00:00,  1.14it/s]\n",
      "100%|██████████| 6/6 [00:02<00:00,  2.43it/s]\n",
      "2021-07-30 20:35:43,185 - pytorch_modeler.py - INFO - epoch:13/50, tr_loss:-0.542496, val_loss:-0.181436, val_AUC_hmean:0.950586, val_pAUC_hmean:0.724661,\n"
     ]
    },
    {
     "data": {
      "text/html": [
       "<div>\n",
       "<style scoped>\n",
       "    .dataframe tbody tr th:only-of-type {\n",
       "        vertical-align: middle;\n",
       "    }\n",
       "\n",
       "    .dataframe tbody tr th {\n",
       "        vertical-align: top;\n",
       "    }\n",
       "\n",
       "    .dataframe thead th {\n",
       "        text-align: right;\n",
       "    }\n",
       "</style>\n",
       "<table border=\"1\" class=\"dataframe\">\n",
       "  <thead>\n",
       "    <tr style=\"text-align: right;\">\n",
       "      <th></th>\n",
       "      <th>AUC</th>\n",
       "      <th>pAUC</th>\n",
       "    </tr>\n",
       "  </thead>\n",
       "  <tbody>\n",
       "    <tr>\n",
       "      <th>id_0</th>\n",
       "      <td>0.942472</td>\n",
       "      <td>0.697221</td>\n",
       "    </tr>\n",
       "    <tr>\n",
       "      <th>id_2</th>\n",
       "      <td>0.970524</td>\n",
       "      <td>0.844865</td>\n",
       "    </tr>\n",
       "    <tr>\n",
       "      <th>id_4</th>\n",
       "      <td>0.970787</td>\n",
       "      <td>0.846245</td>\n",
       "    </tr>\n",
       "    <tr>\n",
       "      <th>id_6</th>\n",
       "      <td>0.920449</td>\n",
       "      <td>0.581313</td>\n",
       "    </tr>\n",
       "    <tr>\n",
       "      <th>mean</th>\n",
       "      <td>0.951058</td>\n",
       "      <td>0.742411</td>\n",
       "    </tr>\n",
       "    <tr>\n",
       "      <th>h_mean</th>\n",
       "      <td>0.950586</td>\n",
       "      <td>0.724661</td>\n",
       "    </tr>\n",
       "  </tbody>\n",
       "</table>\n",
       "</div>"
      ],
      "text/plain": [
       "             AUC      pAUC\n",
       "id_0    0.942472  0.697221\n",
       "id_2    0.970524  0.844865\n",
       "id_4    0.970787  0.846245\n",
       "id_6    0.920449  0.581313\n",
       "mean    0.951058  0.742411\n",
       "h_mean  0.950586  0.724661"
      ]
     },
     "metadata": {},
     "output_type": "display_data"
    },
    {
     "name": "stderr",
     "output_type": "stream",
     "text": [
      "100%|██████████| 21/21 [00:17<00:00,  1.19it/s]\n",
      "100%|██████████| 6/6 [00:02<00:00,  2.34it/s]\n",
      "2021-07-30 20:36:03,912 - pytorch_modeler.py - INFO - epoch:14/50, tr_loss:-0.543841, val_loss:-0.266144, val_AUC_hmean:0.199664, val_pAUC_hmean:0.548273,\n",
      "100%|██████████| 21/21 [00:17<00:00,  1.19it/s]\n",
      "100%|██████████| 6/6 [00:02<00:00,  2.41it/s]\n",
      "2021-07-30 20:36:24,132 - pytorch_modeler.py - INFO - epoch:15/50, tr_loss:-0.533471, val_loss:-0.169188, val_AUC_hmean:0.657729, val_pAUC_hmean:0.579371,\n",
      "100%|██████████| 21/21 [00:17<00:00,  1.21it/s]\n",
      "100%|██████████| 6/6 [00:02<00:00,  2.38it/s]\n",
      "2021-07-30 20:36:44,106 - pytorch_modeler.py - INFO - epoch:16/50, tr_loss:-0.537938, val_loss:-0.214460, val_AUC_hmean:0.875480, val_pAUC_hmean:0.614156,\n",
      "100%|██████████| 21/21 [00:18<00:00,  1.16it/s]\n",
      "100%|██████████| 6/6 [00:02<00:00,  2.34it/s]\n",
      "2021-07-30 20:37:04,758 - pytorch_modeler.py - INFO - epoch:17/50, tr_loss:-0.544139, val_loss:-0.212973, val_AUC_hmean:0.784615, val_pAUC_hmean:0.605120,\n",
      "100%|██████████| 21/21 [00:18<00:00,  1.16it/s]\n",
      "100%|██████████| 6/6 [00:02<00:00,  2.35it/s]\n",
      "2021-07-30 20:37:25,457 - pytorch_modeler.py - INFO - epoch:18/50, tr_loss:-0.555719, val_loss:-0.216598, val_AUC_hmean:0.137216, val_pAUC_hmean:0.493801,\n",
      "100%|██████████| 21/21 [00:17<00:00,  1.18it/s]\n",
      "100%|██████████| 6/6 [00:02<00:00,  2.37it/s]\n",
      "2021-07-30 20:37:45,750 - pytorch_modeler.py - INFO - epoch:19/50, tr_loss:-0.566808, val_loss:-0.145708, val_AUC_hmean:0.313182, val_pAUC_hmean:0.568828,\n",
      "100%|██████████| 21/21 [00:17<00:00,  1.17it/s]\n",
      "100%|██████████| 6/6 [00:02<00:00,  2.26it/s]\n",
      "2021-07-30 20:38:06,418 - pytorch_modeler.py - INFO - epoch:20/50, tr_loss:-0.569598, val_loss:-0.266482, val_AUC_hmean:0.074370, val_pAUC_hmean:0.491352,\n",
      "100%|██████████| 21/21 [00:17<00:00,  1.19it/s]\n",
      "100%|██████████| 6/6 [00:02<00:00,  2.40it/s]\n",
      "2021-07-30 20:38:26,677 - pytorch_modeler.py - INFO - epoch:21/50, tr_loss:-0.573926, val_loss:-0.218977, val_AUC_hmean:0.083884, val_pAUC_hmean:0.570438,\n",
      "100%|██████████| 21/21 [00:18<00:00,  1.11it/s]\n",
      "100%|██████████| 6/6 [00:02<00:00,  2.22it/s]\n",
      "2021-07-30 20:38:48,296 - pytorch_modeler.py - INFO - epoch:22/50, tr_loss:-0.576781, val_loss:-0.231006, val_AUC_hmean:0.086062, val_pAUC_hmean:0.569878,\n",
      "  0%|          | 0/21 [00:01<?, ?it/s]\n"
     ]
    },
    {
     "ename": "KeyboardInterrupt",
     "evalue": "",
     "output_type": "error",
     "traceback": [
      "\u001b[0;31m---------------------------------------------------------------------------\u001b[0m",
      "\u001b[0;31mKeyboardInterrupt\u001b[0m                         Traceback (most recent call last)",
      "\u001b[0;32m<ipython-input-13-17b704a95961>\u001b[0m in \u001b[0;36m<module>\u001b[0;34m\u001b[0m\n\u001b[0;32m----> 1\u001b[0;31m \u001b[0mrun\u001b[0m\u001b[0;34m(\u001b[0m\u001b[0mmachine_types\u001b[0m\u001b[0;34m[\u001b[0m\u001b[0;36m2\u001b[0m\u001b[0;34m]\u001b[0m\u001b[0;34m,\u001b[0m \u001b[0mdev_paths\u001b[0m\u001b[0;34m)\u001b[0m\u001b[0;34m\u001b[0m\u001b[0;34m\u001b[0m\u001b[0m\n\u001b[0m",
      "\u001b[0;32m<ipython-input-10-8f7a9c9950b4>\u001b[0m in \u001b[0;36mrun\u001b[0;34m(machine_type, dev_paths)\u001b[0m\n\u001b[1;32m     41\u001b[0m     \u001b[0moptimizer\u001b[0m \u001b[0;34m=\u001b[0m \u001b[0moptim\u001b[0m\u001b[0;34m.\u001b[0m\u001b[0mAdam\u001b[0m\u001b[0;34m(\u001b[0m\u001b[0mnet\u001b[0m\u001b[0;34m.\u001b[0m\u001b[0mparameters\u001b[0m\u001b[0;34m(\u001b[0m\u001b[0;34m)\u001b[0m\u001b[0;34m,\u001b[0m \u001b[0mlr\u001b[0m\u001b[0;34m=\u001b[0m\u001b[0;36m1e-3\u001b[0m\u001b[0;34m)\u001b[0m\u001b[0;34m\u001b[0m\u001b[0;34m\u001b[0m\u001b[0m\n\u001b[1;32m     42\u001b[0m     \u001b[0mnum_epochs\u001b[0m \u001b[0;34m=\u001b[0m \u001b[0mconfig\u001b[0m\u001b[0;34m[\u001b[0m\u001b[0;34m'param'\u001b[0m\u001b[0;34m]\u001b[0m\u001b[0;34m[\u001b[0m\u001b[0;34m'num_epochs'\u001b[0m\u001b[0;34m]\u001b[0m\u001b[0;34m\u001b[0m\u001b[0;34m\u001b[0m\u001b[0m\n\u001b[0;32m---> 43\u001b[0;31m     \u001b[0moutput_dicts\u001b[0m \u001b[0;34m=\u001b[0m \u001b[0mmodeler\u001b[0m\u001b[0;34m.\u001b[0m\u001b[0mtrain_net\u001b[0m\u001b[0;34m(\u001b[0m\u001b[0mnet\u001b[0m\u001b[0;34m,\u001b[0m \u001b[0mdataloaders_dict\u001b[0m\u001b[0;34m,\u001b[0m \u001b[0moptimizer\u001b[0m\u001b[0;34m,\u001b[0m \u001b[0mnum_epochs\u001b[0m\u001b[0;34m,\u001b[0m \u001b[0mwriter\u001b[0m\u001b[0;34m,\u001b[0m \u001b[0mmodel_out_path\u001b[0m\u001b[0;34m,\u001b[0m \u001b[0mscore_out_path\u001b[0m\u001b[0;34m,\u001b[0m \u001b[0mpred_out_path\u001b[0m\u001b[0;34m,\u001b[0m \u001b[0mnum_classes\u001b[0m\u001b[0;34m)\u001b[0m\u001b[0;34m\u001b[0m\u001b[0;34m\u001b[0m\u001b[0m\n\u001b[0m\u001b[1;32m     44\u001b[0m \u001b[0;34m\u001b[0m\u001b[0m\n\u001b[1;32m     45\u001b[0m     \u001b[0;31m#out_path = f'{OUT_FEATURE_DIR}/{machine_type}_features.pkl'\u001b[0m\u001b[0;34m\u001b[0m\u001b[0;34m\u001b[0m\u001b[0;34m\u001b[0m\u001b[0m\n",
      "\u001b[0;32m~/research/DCASE_experiments/SSLCL-AD/exp1/pytorch_modeler.py\u001b[0m in \u001b[0;36mtrain_net\u001b[0;34m(net, dataloaders_dict, optimizer, num_epochs, writer, model_out_path, score_out_path, pred_out_path, num_classes)\u001b[0m\n\u001b[1;32m    170\u001b[0m                     \u001b[0;32mif\u001b[0m \u001b[0mphase\u001b[0m \u001b[0;34m==\u001b[0m \u001b[0;34m'train'\u001b[0m\u001b[0;34m:\u001b[0m\u001b[0;34m\u001b[0m\u001b[0;34m\u001b[0m\u001b[0m\n\u001b[1;32m    171\u001b[0m                         \u001b[0moptimizer\u001b[0m\u001b[0;34m.\u001b[0m\u001b[0mzero_grad\u001b[0m\u001b[0;34m(\u001b[0m\u001b[0;34m)\u001b[0m\u001b[0;34m\u001b[0m\u001b[0;34m\u001b[0m\u001b[0m\n\u001b[0;32m--> 172\u001b[0;31m                         \u001b[0mloss\u001b[0m\u001b[0;34m.\u001b[0m\u001b[0mbackward\u001b[0m\u001b[0;34m(\u001b[0m\u001b[0;34m)\u001b[0m\u001b[0;34m\u001b[0m\u001b[0;34m\u001b[0m\u001b[0m\n\u001b[0m\u001b[1;32m    173\u001b[0m                         \u001b[0moptimizer\u001b[0m\u001b[0;34m.\u001b[0m\u001b[0mstep\u001b[0m\u001b[0;34m(\u001b[0m\u001b[0;34m)\u001b[0m\u001b[0;34m\u001b[0m\u001b[0;34m\u001b[0m\u001b[0m\n\u001b[1;32m    174\u001b[0m                     \u001b[0mlosses\u001b[0m \u001b[0;34m+=\u001b[0m \u001b[0mloss\u001b[0m\u001b[0;34m.\u001b[0m\u001b[0mitem\u001b[0m\u001b[0;34m(\u001b[0m\u001b[0;34m)\u001b[0m\u001b[0;34m\u001b[0m\u001b[0;34m\u001b[0m\u001b[0m\n",
      "\u001b[0;32m~/anaconda3/envs/dcase2021_task2/lib/python3.8/site-packages/torch/tensor.py\u001b[0m in \u001b[0;36mbackward\u001b[0;34m(self, gradient, retain_graph, create_graph, inputs)\u001b[0m\n\u001b[1;32m    243\u001b[0m                 \u001b[0mcreate_graph\u001b[0m\u001b[0;34m=\u001b[0m\u001b[0mcreate_graph\u001b[0m\u001b[0;34m,\u001b[0m\u001b[0;34m\u001b[0m\u001b[0;34m\u001b[0m\u001b[0m\n\u001b[1;32m    244\u001b[0m                 inputs=inputs)\n\u001b[0;32m--> 245\u001b[0;31m         \u001b[0mtorch\u001b[0m\u001b[0;34m.\u001b[0m\u001b[0mautograd\u001b[0m\u001b[0;34m.\u001b[0m\u001b[0mbackward\u001b[0m\u001b[0;34m(\u001b[0m\u001b[0mself\u001b[0m\u001b[0;34m,\u001b[0m \u001b[0mgradient\u001b[0m\u001b[0;34m,\u001b[0m \u001b[0mretain_graph\u001b[0m\u001b[0;34m,\u001b[0m \u001b[0mcreate_graph\u001b[0m\u001b[0;34m,\u001b[0m \u001b[0minputs\u001b[0m\u001b[0;34m=\u001b[0m\u001b[0minputs\u001b[0m\u001b[0;34m)\u001b[0m\u001b[0;34m\u001b[0m\u001b[0;34m\u001b[0m\u001b[0m\n\u001b[0m\u001b[1;32m    246\u001b[0m \u001b[0;34m\u001b[0m\u001b[0m\n\u001b[1;32m    247\u001b[0m     \u001b[0;32mdef\u001b[0m \u001b[0mregister_hook\u001b[0m\u001b[0;34m(\u001b[0m\u001b[0mself\u001b[0m\u001b[0;34m,\u001b[0m \u001b[0mhook\u001b[0m\u001b[0;34m)\u001b[0m\u001b[0;34m:\u001b[0m\u001b[0;34m\u001b[0m\u001b[0;34m\u001b[0m\u001b[0m\n",
      "\u001b[0;32m~/anaconda3/envs/dcase2021_task2/lib/python3.8/site-packages/torch/autograd/__init__.py\u001b[0m in \u001b[0;36mbackward\u001b[0;34m(tensors, grad_tensors, retain_graph, create_graph, grad_variables, inputs)\u001b[0m\n\u001b[1;32m    143\u001b[0m         \u001b[0mretain_graph\u001b[0m \u001b[0;34m=\u001b[0m \u001b[0mcreate_graph\u001b[0m\u001b[0;34m\u001b[0m\u001b[0;34m\u001b[0m\u001b[0m\n\u001b[1;32m    144\u001b[0m \u001b[0;34m\u001b[0m\u001b[0m\n\u001b[0;32m--> 145\u001b[0;31m     Variable._execution_engine.run_backward(\n\u001b[0m\u001b[1;32m    146\u001b[0m         \u001b[0mtensors\u001b[0m\u001b[0;34m,\u001b[0m \u001b[0mgrad_tensors_\u001b[0m\u001b[0;34m,\u001b[0m \u001b[0mretain_graph\u001b[0m\u001b[0;34m,\u001b[0m \u001b[0mcreate_graph\u001b[0m\u001b[0;34m,\u001b[0m \u001b[0minputs\u001b[0m\u001b[0;34m,\u001b[0m\u001b[0;34m\u001b[0m\u001b[0;34m\u001b[0m\u001b[0m\n\u001b[1;32m    147\u001b[0m         allow_unreachable=True, accumulate_grad=True)  # allow_unreachable flag\n",
      "\u001b[0;31mKeyboardInterrupt\u001b[0m: "
     ]
    }
   ],
   "source": [
    "run(machine_types[4], dev_paths)"
   ]
  },
  {
   "cell_type": "code",
   "execution_count": null,
   "metadata": {},
   "outputs": [],
   "source": []
  }
 ],
 "metadata": {
  "kernelspec": {
   "display_name": "Environment (conda_dcase2021_task2)",
   "language": "python",
   "name": "conda_dcase2021_task2"
  },
  "language_info": {
   "codemirror_mode": {
    "name": "ipython",
    "version": 3
   },
   "file_extension": ".py",
   "mimetype": "text/x-python",
   "name": "python",
   "nbconvert_exporter": "python",
   "pygments_lexer": "ipython3",
   "version": "3.8.8"
  },
  "toc": {
   "base_numbering": 1,
   "nav_menu": {},
   "number_sections": true,
   "sideBar": true,
   "skip_h1_title": false,
   "title_cell": "Table of Contents",
   "title_sidebar": "Contents",
   "toc_cell": false,
   "toc_position": {},
   "toc_section_display": true,
   "toc_window_display": false
  }
 },
 "nbformat": 4,
 "nbformat_minor": 4
}
