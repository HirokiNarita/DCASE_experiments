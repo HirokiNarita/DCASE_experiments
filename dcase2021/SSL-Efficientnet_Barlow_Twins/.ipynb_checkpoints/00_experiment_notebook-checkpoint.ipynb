{
 "cells": [
  {
   "cell_type": "markdown",
   "metadata": {},
   "source": [
    "# train"
   ]
  },
  {
   "cell_type": "code",
   "execution_count": 1,
   "metadata": {},
   "outputs": [
    {
     "name": "stderr",
     "output_type": "stream",
     "text": [
      "<ipython-input-1-1499ab5789c7>:5: YAMLLoadWarning: calling yaml.load() without Loader=... is deprecated, as the default Loader is unsafe. Please read https://msg.pyyaml.org/load for full details.\n",
      "  config = yaml.load(f)\n"
     ]
    }
   ],
   "source": [
    "import yaml\n",
    "import os\n",
    "\n",
    "with open(\"./config.yaml\", 'rb') as f:\n",
    "    config = yaml.load(f)"
   ]
  },
  {
   "cell_type": "code",
   "execution_count": 2,
   "metadata": {},
   "outputs": [],
   "source": [
    "OUTPUT_ROOT = config['IO_OPTION']['OUTPUT_ROOT']\n",
    "os.makedirs(OUTPUT_ROOT, exist_ok=True)"
   ]
  },
  {
   "cell_type": "markdown",
   "metadata": {},
   "source": [
    "## load library"
   ]
  },
  {
   "cell_type": "code",
   "execution_count": 3,
   "metadata": {},
   "outputs": [],
   "source": [
    "# python default library\n",
    "import os\n",
    "import shutil\n",
    "import datetime\n",
    "import sys\n",
    "import pickle\n",
    "\n",
    "# general analysis tool-kit\n",
    "import numpy as np\n",
    "import pandas as pd\n",
    "#from sklearn.model_selection import train_test_split\n",
    "import matplotlib.pyplot as plt\n",
    "import seaborn as sns\n",
    "\n",
    "# pytorch\n",
    "import torch\n",
    "from torch import optim, nn\n",
    "from torch.utils.tensorboard import SummaryWriter\n",
    "import timm\n",
    "#from torchvision.models import wide_resnet50_2, resnet18\n",
    "#from torchsummary import summary\n",
    "\n",
    "# etc\n",
    "import yaml\n",
    "yaml.warnings({'YAMLLoadWarning': False})\n",
    "\n",
    "# original library\n",
    "sys.path.append('/home/hiroki/research/dcase2021_task2/src/functions')\n",
    "import common as com\n",
    "import pytorch_modeler as modeler\n",
    "from pytorch_model import EfficientNet_b1 as Model\n",
    "#from pytorch_utils import filtered_load_model\n",
    "#import models\n",
    "\n",
    "import librosa\n",
    "import IPython\n",
    "import librosa.display"
   ]
  },
  {
   "cell_type": "code",
   "execution_count": 4,
   "metadata": {},
   "outputs": [],
   "source": [
    "#model = timm.create_model('efficientnet_b1', pretrained=True)\n",
    "#3, 320, 320\n",
    "#name: (channel_multiplier, depth_multiplier, resolution, dropout_rate)\n",
    "#(1.4, 1.8, 380, 0.4)"
   ]
  },
  {
   "cell_type": "code",
   "execution_count": 5,
   "metadata": {},
   "outputs": [],
   "source": [
    "#model.blocks[0][0]"
   ]
  },
  {
   "cell_type": "markdown",
   "metadata": {},
   "source": [
    "## load config and set logger"
   ]
  },
  {
   "cell_type": "code",
   "execution_count": 6,
   "metadata": {},
   "outputs": [],
   "source": [
    "log_folder = config['IO_OPTION']['OUTPUT_ROOT']+'/{0}.log'.format(datetime.date.today())\n",
    "logger = com.setup_logger(log_folder, '00_train.py')"
   ]
  },
  {
   "cell_type": "markdown",
   "metadata": {},
   "source": [
    "## Setting"
   ]
  },
  {
   "cell_type": "code",
   "execution_count": 7,
   "metadata": {},
   "outputs": [],
   "source": [
    "# Setting seed\n",
    "modeler.set_seed(42)"
   ]
  },
  {
   "cell_type": "code",
   "execution_count": 8,
   "metadata": {},
   "outputs": [
    {
     "data": {
      "text/plain": [
       "'/media/hiroki/HDD1TB/research/DCASE_experiments/SSL-Efficientnet_Barlow_Twins/dcase2021_task2/config.yaml'"
      ]
     },
     "execution_count": 8,
     "metadata": {},
     "output_type": "execute_result"
    }
   ],
   "source": [
    "############################################################################\n",
    "# Setting I/O path\n",
    "############################################################################\n",
    "# input dirs\n",
    "INPUT_ROOT = config['IO_OPTION']['INPUT_ROOT']\n",
    "dev_dir = INPUT_ROOT + \"/dev_data\"\n",
    "add_dev_dir = INPUT_ROOT + \"/add_dev_data\"\n",
    "# machine type\n",
    "machine_types = os.listdir(dev_dir)\n",
    "# output dirs\n",
    "OUTPUT_ROOT = config['IO_OPTION']['OUTPUT_ROOT']\n",
    "MODEL_DIR = config['IO_OPTION']['OUTPUT_ROOT'] + '/models'\n",
    "TB_DIR = config['IO_OPTION']['OUTPUT_ROOT'] + '/tb'\n",
    "OUT_FEATURE_DIR = OUTPUT_ROOT + '/extraction_features'\n",
    "#os.makedirs(OUTPUT_ROOT, exist_ok=True)\n",
    "os.makedirs(MODEL_DIR, exist_ok=True)\n",
    "os.makedirs(TB_DIR, exist_ok=True)\n",
    "os.makedirs(OUT_FEATURE_DIR, exist_ok=True)\n",
    "# copy config\n",
    "shutil.copy('./config.yaml', OUTPUT_ROOT)"
   ]
  },
  {
   "cell_type": "code",
   "execution_count": 9,
   "metadata": {},
   "outputs": [
    {
     "data": {
      "text/plain": [
       "True"
      ]
     },
     "execution_count": 9,
     "metadata": {},
     "output_type": "execute_result"
    }
   ],
   "source": [
    "torch.cuda.is_available()"
   ]
  },
  {
   "cell_type": "markdown",
   "metadata": {},
   "source": [
    "## make path list"
   ]
  },
  {
   "cell_type": "markdown",
   "metadata": {},
   "source": [
    "- __train_paths__ ([dict]): Each Machine Type\n",
    "    - __ToyCar__ ([dict]): Each dataset\n",
    "        - train ([list]) : paths\n",
    "        - valid_source ([list]) : paths\n",
    "        - valid_target ([list]) :paths\n",
    "    - __ToyTrain__ ([dict]): Each dataset\n",
    "        - train ([list]) : paths\n",
    "        - valid_source ([list]) : paths\n",
    "        - valid_target ([list]) : paths\n",
    "    - ..."
   ]
  },
  {
   "cell_type": "code",
   "execution_count": 10,
   "metadata": {},
   "outputs": [
    {
     "name": "stdout",
     "output_type": "stream",
     "text": [
      "Machine fan,dev_train_size : 3009, source_size : 3000, target_size : 9, adddev_train_size : 3009, source_size : 3000, target_size : 9\n",
      "==============================================================\n",
      "Machine gearbox,dev_train_size : 3026, source_size : 3017, target_size : 9, adddev_train_size : 3026, source_size : 3105, target_size : 9\n",
      "==============================================================\n",
      "Machine pump,dev_train_size : 3009, source_size : 3000, target_size : 9, adddev_train_size : 3009, source_size : 3000, target_size : 9\n",
      "==============================================================\n",
      "Machine slider,dev_train_size : 3009, source_size : 3000, target_size : 9, adddev_train_size : 3009, source_size : 3000, target_size : 9\n",
      "==============================================================\n",
      "Machine ToyCar,dev_train_size : 3009, source_size : 3000, target_size : 9, adddev_train_size : 3009, source_size : 3000, target_size : 9\n",
      "==============================================================\n",
      "Machine ToyTrain,dev_train_size : 3009, source_size : 3000, target_size : 9, adddev_train_size : 3009, source_size : 3000, target_size : 9\n",
      "==============================================================\n",
      "Machine valve,dev_train_size : 3009, source_size : 3000, target_size : 9, adddev_train_size : 3009, source_size : 3000, target_size : 9\n",
      "==============================================================\n"
     ]
    }
   ],
   "source": [
    "dev_paths = {}\n",
    "\n",
    "for machine_type in machine_types:\n",
    "    # dev train\n",
    "    dev_train_paths = [f\"{dev_dir}/{machine_type}/train/\" + file for file in os.listdir(f\"{dev_dir}/{machine_type}/train\")]\n",
    "    dev_train_paths = sorted(dev_train_paths)\n",
    "    \n",
    "    print(f'Machine {machine_type}', end=',')\n",
    "    print(f'dev_train_size : {len(dev_train_paths)}', end=', ')\n",
    "    dev_train_source_paths = [path for path in dev_train_paths if 'source' in path]\n",
    "    print(f'source_size : {len(dev_train_source_paths)}', end=', ')\n",
    "    dev_train_target_paths = [path for path in dev_train_paths if 'target' in path]\n",
    "    print(f'target_size : {len(dev_train_target_paths)}', end=', ')\n",
    "    # source mode\n",
    "    dev_train_paths = dev_train_source_paths + dev_train_target_paths\n",
    "    \n",
    "    # add_dev train\n",
    "    add_dev_paths = [f\"{add_dev_dir}/{machine_type}/train/\" + file for file in os.listdir(f\"{add_dev_dir}/{machine_type}/train\")]\n",
    "    add_dev_paths = sorted(add_dev_paths)\n",
    "    print(f'adddev_train_size : {len(dev_train_paths)}', end=', ')\n",
    "    add_dev_source_paths = [path for path in add_dev_paths if 'source' in path]\n",
    "    print(f'source_size : {len(add_dev_source_paths)}', end=', ')\n",
    "    add_dev_target_paths = [path for path in add_dev_paths if 'target' in path]\n",
    "    print(f'target_size : {len(add_dev_target_paths)}')\n",
    "    # source mode\n",
    "    add_dev_paths = add_dev_source_paths + add_dev_target_paths\n",
    "    print('==============================================================')\n",
    "    \n",
    "    # dev_source valid\n",
    "    dev_source_paths = [f\"{dev_dir}/{machine_type}/source_test/\" + file for file in os.listdir(f\"{dev_dir}/{machine_type}/source_test\")]\n",
    "    dev_source_paths = sorted(dev_source_paths)\n",
    "    \n",
    "    # dev_target valid\n",
    "    dev_target_paths = [f\"{dev_dir}/{machine_type}/target_test/\" + file for file in os.listdir(f\"{dev_dir}/{machine_type}/target_test\")]\n",
    "    dev_target_paths = sorted(dev_target_paths)\n",
    "    \n",
    "    # bundle\n",
    "    dev_paths[machine_type] = {}\n",
    "    dev_paths[machine_type]['train'] = dev_train_paths + add_dev_paths\n",
    "    dev_paths[machine_type]['valid_source'] = dev_source_paths\n",
    "    dev_paths[machine_type]['valid_target'] = dev_target_paths"
   ]
  },
  {
   "cell_type": "markdown",
   "metadata": {},
   "source": [
    "## training"
   ]
  },
  {
   "cell_type": "code",
   "execution_count": 11,
   "metadata": {},
   "outputs": [],
   "source": [
    "#############################################################################\n",
    "# run\n",
    "#############################################################################\n",
    "def run(machine_type, dev_paths):\n",
    "    com.tic()\n",
    "    os.makedirs(TB_DIR+'/'+machine_type, exist_ok=True)\n",
    "    tb_log_dir = TB_DIR + '/' + machine_type\n",
    "    writer = SummaryWriter(log_dir = tb_log_dir)\n",
    "    \n",
    "    logger.info('TARGET MACHINE_TYPE: {0}'.format(machine_type))\n",
    "    logger.info('MAKE DATA_LOADER')\n",
    "    # dev_train_paths\n",
    "    dataloaders_dict = modeler.make_dataloader(dev_paths, machine_type)\n",
    "    # parameter setting\n",
    "    logger.info('FEATURE EXTRACTION')\n",
    "    net = Model(n_out=config['param']['mel_bins'])\n",
    "    optimizer = optim.Adam(net.parameters(), lr=config['param']['lr'])\n",
    "    scheduler = torch.optim.lr_scheduler.OneCycleLR(optimizer, max_lr=0.001, steps_per_epoch=len(dataloaders_dict['train']), epochs=config['param']['num_epochs'])\n",
    "    output_dicts = modeler.train_net(net, dataloaders_dict, writer, optimizer)\n",
    "    \n",
    "    out_path = f'{MODEL_DIR}/{machine_type}_model.pkl'\n",
    "    torch.save(output_dicts['net'], out_path)\n",
    "    logger.info(f'SAVE SUCCESS : {out_path}')\n",
    "    \n",
    "    com.toc()"
   ]
  },
  {
   "cell_type": "code",
   "execution_count": 12,
   "metadata": {},
   "outputs": [
    {
     "data": {
      "text/plain": [
       "['fan', 'gearbox', 'pump', 'slider', 'ToyCar', 'ToyTrain', 'valve']"
      ]
     },
     "execution_count": 12,
     "metadata": {},
     "output_type": "execute_result"
    }
   ],
   "source": [
    "machine_types"
   ]
  },
  {
   "cell_type": "markdown",
   "metadata": {},
   "source": [
    "# run"
   ]
  },
  {
   "cell_type": "code",
   "execution_count": null,
   "metadata": {
    "code_folding": [],
    "scrolled": true
   },
   "outputs": [
    {
     "name": "stderr",
     "output_type": "stream",
     "text": [
      "2021-08-12 16:23:43,703 - 00_train.py - INFO - TARGET MACHINE_TYPE: fan\n",
      "2021-08-12 16:23:43,703 - 00_train.py - INFO - MAKE DATA_LOADER\n",
      "2021-08-12 16:23:43,704 - 00_train.py - INFO - FEATURE EXTRACTION\n"
     ]
    },
    {
     "name": "stdout",
     "output_type": "stream",
     "text": [
      "use: cuda:0\n"
     ]
    },
    {
     "name": "stderr",
     "output_type": "stream",
     "text": [
      "100%|██████████| 48/48 [00:31<00:00,  1.55it/s]\n",
      "2021-08-12 16:24:17,921 - pytorch_modeler.py - INFO - epoch:1/300, tr_loss:51163.079102\n",
      "100%|██████████| 48/48 [00:29<00:00,  1.63it/s]\n",
      "2021-08-12 16:24:47,373 - pytorch_modeler.py - INFO - epoch:2/300, tr_loss:44993.330688\n",
      "100%|██████████| 48/48 [00:29<00:00,  1.62it/s]\n",
      "2021-08-12 16:25:16,928 - pytorch_modeler.py - INFO - epoch:3/300, tr_loss:44423.697632\n",
      "100%|██████████| 48/48 [00:29<00:00,  1.61it/s]\n",
      "2021-08-12 16:25:46,668 - pytorch_modeler.py - INFO - epoch:4/300, tr_loss:42656.178467\n",
      "100%|██████████| 48/48 [00:29<00:00,  1.60it/s]\n",
      "2021-08-12 16:26:16,662 - pytorch_modeler.py - INFO - epoch:5/300, tr_loss:43922.680176\n",
      "100%|██████████| 48/48 [00:29<00:00,  1.62it/s]\n",
      "2021-08-12 16:26:46,284 - pytorch_modeler.py - INFO - epoch:6/300, tr_loss:43034.312500\n",
      "100%|██████████| 48/48 [00:31<00:00,  1.54it/s]\n",
      "2021-08-12 16:27:17,385 - pytorch_modeler.py - INFO - epoch:7/300, tr_loss:41802.200439\n",
      "100%|██████████| 48/48 [00:29<00:00,  1.62it/s]\n",
      "2021-08-12 16:27:46,960 - pytorch_modeler.py - INFO - epoch:8/300, tr_loss:42273.565796\n",
      "100%|██████████| 48/48 [00:30<00:00,  1.58it/s]\n",
      "2021-08-12 16:28:17,301 - pytorch_modeler.py - INFO - epoch:9/300, tr_loss:41992.974854\n",
      "100%|██████████| 48/48 [00:29<00:00,  1.62it/s]\n",
      "2021-08-12 16:28:46,970 - pytorch_modeler.py - INFO - epoch:10/300, tr_loss:41271.355469\n",
      "100%|██████████| 48/48 [00:29<00:00,  1.61it/s]\n",
      "2021-08-12 16:29:16,769 - pytorch_modeler.py - INFO - epoch:11/300, tr_loss:39019.189453\n",
      "100%|██████████| 48/48 [00:29<00:00,  1.61it/s]\n",
      "2021-08-12 16:29:46,562 - pytorch_modeler.py - INFO - epoch:12/300, tr_loss:39371.659546\n",
      "100%|██████████| 48/48 [00:30<00:00,  1.59it/s]\n",
      "2021-08-12 16:30:16,825 - pytorch_modeler.py - INFO - epoch:13/300, tr_loss:39932.227112\n",
      "100%|██████████| 48/48 [00:29<00:00,  1.60it/s]\n",
      "2021-08-12 16:30:46,764 - pytorch_modeler.py - INFO - epoch:14/300, tr_loss:38718.050842\n",
      "100%|██████████| 48/48 [00:29<00:00,  1.62it/s]\n",
      "2021-08-12 16:31:16,484 - pytorch_modeler.py - INFO - epoch:15/300, tr_loss:38982.638367\n",
      "100%|██████████| 48/48 [00:29<00:00,  1.62it/s]\n",
      "2021-08-12 16:31:46,051 - pytorch_modeler.py - INFO - epoch:16/300, tr_loss:39333.015137\n",
      "100%|██████████| 48/48 [00:30<00:00,  1.57it/s]\n",
      "2021-08-12 16:32:16,689 - pytorch_modeler.py - INFO - epoch:17/300, tr_loss:38208.681213\n",
      "100%|██████████| 48/48 [00:29<00:00,  1.62it/s]\n",
      "2021-08-12 16:32:46,290 - pytorch_modeler.py - INFO - epoch:18/300, tr_loss:37981.139160\n",
      "100%|██████████| 48/48 [00:29<00:00,  1.62it/s]\n",
      "2021-08-12 16:33:16,002 - pytorch_modeler.py - INFO - epoch:19/300, tr_loss:40877.644653\n",
      "100%|██████████| 48/48 [00:29<00:00,  1.62it/s]\n",
      "2021-08-12 16:33:45,584 - pytorch_modeler.py - INFO - epoch:20/300, tr_loss:37682.843994\n",
      "100%|██████████| 48/48 [00:30<00:00,  1.57it/s]\n",
      "2021-08-12 16:34:16,176 - pytorch_modeler.py - INFO - epoch:21/300, tr_loss:38334.291260\n",
      "100%|██████████| 48/48 [00:29<00:00,  1.62it/s]\n",
      "2021-08-12 16:34:45,803 - pytorch_modeler.py - INFO - epoch:22/300, tr_loss:38026.359924\n",
      "100%|██████████| 48/48 [00:30<00:00,  1.60it/s]\n",
      "2021-08-12 16:35:15,899 - pytorch_modeler.py - INFO - epoch:23/300, tr_loss:38093.113525\n",
      "100%|██████████| 48/48 [00:31<00:00,  1.53it/s]\n",
      "2021-08-12 16:35:47,307 - pytorch_modeler.py - INFO - epoch:24/300, tr_loss:37853.152466\n",
      "100%|██████████| 48/48 [00:30<00:00,  1.58it/s]\n",
      "2021-08-12 16:36:17,733 - pytorch_modeler.py - INFO - epoch:25/300, tr_loss:39377.367676\n",
      "100%|██████████| 48/48 [00:29<00:00,  1.60it/s]\n",
      "2021-08-12 16:36:47,679 - pytorch_modeler.py - INFO - epoch:26/300, tr_loss:39620.173584\n",
      "100%|██████████| 48/48 [00:31<00:00,  1.54it/s]\n",
      "2021-08-12 16:37:18,866 - pytorch_modeler.py - INFO - epoch:27/300, tr_loss:39588.308838\n",
      "100%|██████████| 48/48 [00:29<00:00,  1.60it/s]\n",
      "2021-08-12 16:37:48,866 - pytorch_modeler.py - INFO - epoch:28/300, tr_loss:38411.300842\n",
      "100%|██████████| 48/48 [00:30<00:00,  1.59it/s]\n",
      "2021-08-12 16:38:19,072 - pytorch_modeler.py - INFO - epoch:29/300, tr_loss:39199.398071\n",
      "100%|██████████| 48/48 [00:29<00:00,  1.62it/s]\n",
      "2021-08-12 16:38:48,770 - pytorch_modeler.py - INFO - epoch:30/300, tr_loss:37363.983826\n",
      "100%|██████████| 48/48 [00:29<00:00,  1.62it/s]\n",
      "2021-08-12 16:39:18,478 - pytorch_modeler.py - INFO - epoch:31/300, tr_loss:39140.626709\n",
      "100%|██████████| 48/48 [00:29<00:00,  1.62it/s]\n",
      "2021-08-12 16:39:48,201 - pytorch_modeler.py - INFO - epoch:32/300, tr_loss:37736.186523\n",
      "100%|██████████| 48/48 [00:30<00:00,  1.58it/s]\n",
      "2021-08-12 16:40:18,564 - pytorch_modeler.py - INFO - epoch:33/300, tr_loss:39201.307922\n",
      "100%|██████████| 48/48 [00:29<00:00,  1.61it/s]\n",
      "2021-08-12 16:40:48,442 - pytorch_modeler.py - INFO - epoch:34/300, tr_loss:39267.010925\n",
      "100%|██████████| 48/48 [00:29<00:00,  1.62it/s]\n",
      "2021-08-12 16:41:18,107 - pytorch_modeler.py - INFO - epoch:35/300, tr_loss:38111.765503\n",
      "100%|██████████| 48/48 [00:29<00:00,  1.62it/s]\n",
      "2021-08-12 16:41:47,743 - pytorch_modeler.py - INFO - epoch:36/300, tr_loss:36671.230469\n",
      "100%|██████████| 48/48 [00:30<00:00,  1.59it/s]\n",
      "2021-08-12 16:42:17,945 - pytorch_modeler.py - INFO - epoch:37/300, tr_loss:38471.964661\n",
      "100%|██████████| 48/48 [00:29<00:00,  1.61it/s]\n",
      "2021-08-12 16:42:47,676 - pytorch_modeler.py - INFO - epoch:38/300, tr_loss:38543.086792\n",
      "100%|██████████| 48/48 [00:29<00:00,  1.61it/s]\n",
      "2021-08-12 16:43:17,428 - pytorch_modeler.py - INFO - epoch:39/300, tr_loss:36042.699097\n",
      "100%|██████████| 48/48 [00:29<00:00,  1.61it/s]\n",
      "2021-08-12 16:43:47,223 - pytorch_modeler.py - INFO - epoch:40/300, tr_loss:36173.810120\n",
      "100%|██████████| 48/48 [00:30<00:00,  1.58it/s]\n",
      "2021-08-12 16:44:17,660 - pytorch_modeler.py - INFO - epoch:41/300, tr_loss:36022.084167\n",
      "100%|██████████| 48/48 [00:29<00:00,  1.61it/s]\n",
      "2021-08-12 16:44:47,425 - pytorch_modeler.py - INFO - epoch:42/300, tr_loss:37018.327820\n",
      "100%|██████████| 48/48 [00:29<00:00,  1.61it/s]\n",
      "2021-08-12 16:45:17,179 - pytorch_modeler.py - INFO - epoch:43/300, tr_loss:36030.655090\n",
      "100%|██████████| 48/48 [00:29<00:00,  1.61it/s]\n",
      "2021-08-12 16:45:46,916 - pytorch_modeler.py - INFO - epoch:44/300, tr_loss:37597.530884\n",
      "100%|██████████| 48/48 [00:30<00:00,  1.58it/s]\n",
      "2021-08-12 16:46:17,235 - pytorch_modeler.py - INFO - epoch:45/300, tr_loss:36052.136841\n",
      "100%|██████████| 48/48 [00:29<00:00,  1.62it/s]\n",
      "2021-08-12 16:46:46,880 - pytorch_modeler.py - INFO - epoch:46/300, tr_loss:36516.594971\n",
      "100%|██████████| 48/48 [00:29<00:00,  1.61it/s]\n",
      "2021-08-12 16:47:16,647 - pytorch_modeler.py - INFO - epoch:47/300, tr_loss:36211.638428\n",
      "100%|██████████| 48/48 [00:29<00:00,  1.62it/s]\n",
      "2021-08-12 16:47:46,339 - pytorch_modeler.py - INFO - epoch:48/300, tr_loss:35361.791687\n",
      "100%|██████████| 48/48 [00:30<00:00,  1.59it/s]\n",
      "2021-08-12 16:48:16,612 - pytorch_modeler.py - INFO - epoch:49/300, tr_loss:35118.883789\n",
      "100%|██████████| 48/48 [00:30<00:00,  1.58it/s]\n",
      "2021-08-12 16:48:46,917 - pytorch_modeler.py - INFO - epoch:50/300, tr_loss:36786.520020\n",
      "100%|██████████| 48/48 [00:29<00:00,  1.61it/s]\n",
      "2021-08-12 16:49:16,643 - pytorch_modeler.py - INFO - epoch:51/300, tr_loss:37373.359680\n",
      "100%|██████████| 48/48 [00:30<00:00,  1.57it/s]\n",
      "2021-08-12 16:49:47,188 - pytorch_modeler.py - INFO - epoch:52/300, tr_loss:36904.031799\n",
      "100%|██████████| 48/48 [00:31<00:00,  1.53it/s]\n",
      "2021-08-12 16:50:18,489 - pytorch_modeler.py - INFO - epoch:53/300, tr_loss:36521.709229\n",
      "100%|██████████| 48/48 [00:30<00:00,  1.58it/s]\n",
      "2021-08-12 16:50:48,917 - pytorch_modeler.py - INFO - epoch:54/300, tr_loss:36567.613220\n",
      "100%|██████████| 48/48 [00:30<00:00,  1.57it/s]\n",
      "2021-08-12 16:51:19,403 - pytorch_modeler.py - INFO - epoch:55/300, tr_loss:36679.299377\n",
      "100%|██████████| 48/48 [00:31<00:00,  1.51it/s]\n",
      "2021-08-12 16:51:51,112 - pytorch_modeler.py - INFO - epoch:56/300, tr_loss:34763.782471\n",
      " 50%|█████     | 24/48 [00:16<00:15,  1.52it/s]"
     ]
    }
   ],
   "source": [
    "for machine_type in machine_types:\n",
    "    run(machine_type, dev_paths)"
   ]
  },
  {
   "cell_type": "code",
   "execution_count": null,
   "metadata": {},
   "outputs": [],
   "source": [
    "#run(machine_types[1], dev_paths)"
   ]
  }
 ],
 "metadata": {
  "kernelspec": {
   "display_name": "Environment (conda_dcase2021_task2)",
   "language": "python",
   "name": "conda_dcase2021_task2"
  },
  "language_info": {
   "codemirror_mode": {
    "name": "ipython",
    "version": 3
   },
   "file_extension": ".py",
   "mimetype": "text/x-python",
   "name": "python",
   "nbconvert_exporter": "python",
   "pygments_lexer": "ipython3",
   "version": "3.8.8"
  },
  "toc": {
   "base_numbering": 1,
   "nav_menu": {},
   "number_sections": true,
   "sideBar": true,
   "skip_h1_title": false,
   "title_cell": "Table of Contents",
   "title_sidebar": "Contents",
   "toc_cell": false,
   "toc_position": {},
   "toc_section_display": true,
   "toc_window_display": false
  }
 },
 "nbformat": 4,
 "nbformat_minor": 4
}
