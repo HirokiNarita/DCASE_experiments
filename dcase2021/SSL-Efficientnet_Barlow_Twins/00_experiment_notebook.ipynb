{
 "cells": [
  {
   "cell_type": "markdown",
   "metadata": {},
   "source": [
    "# train"
   ]
  },
  {
   "cell_type": "code",
   "execution_count": 1,
   "metadata": {},
   "outputs": [
    {
     "name": "stderr",
     "output_type": "stream",
     "text": [
      "<ipython-input-1-1499ab5789c7>:5: YAMLLoadWarning: calling yaml.load() without Loader=... is deprecated, as the default Loader is unsafe. Please read https://msg.pyyaml.org/load for full details.\n",
      "  config = yaml.load(f)\n"
     ]
    }
   ],
   "source": [
    "import yaml\n",
    "import os\n",
    "\n",
    "with open(\"./config.yaml\", 'rb') as f:\n",
    "    config = yaml.load(f)"
   ]
  },
  {
   "cell_type": "code",
   "execution_count": 2,
   "metadata": {},
   "outputs": [],
   "source": [
    "OUTPUT_ROOT = config['IO_OPTION']['OUTPUT_ROOT']\n",
    "os.makedirs(OUTPUT_ROOT, exist_ok=True)"
   ]
  },
  {
   "cell_type": "markdown",
   "metadata": {},
   "source": [
    "## load library"
   ]
  },
  {
   "cell_type": "code",
   "execution_count": 3,
   "metadata": {},
   "outputs": [],
   "source": [
    "# python default library\n",
    "import os\n",
    "import shutil\n",
    "import datetime\n",
    "import sys\n",
    "import pickle\n",
    "\n",
    "# general analysis tool-kit\n",
    "import numpy as np\n",
    "import pandas as pd\n",
    "#from sklearn.model_selection import train_test_split\n",
    "import matplotlib.pyplot as plt\n",
    "import seaborn as sns\n",
    "\n",
    "# pytorch\n",
    "import torch\n",
    "from torch import optim, nn\n",
    "from torch.utils.tensorboard import SummaryWriter\n",
    "import timm\n",
    "#from torchvision.models import wide_resnet50_2, resnet18\n",
    "#from torchsummary import summary\n",
    "\n",
    "# etc\n",
    "import yaml\n",
    "yaml.warnings({'YAMLLoadWarning': False})\n",
    "\n",
    "# original library\n",
    "sys.path.append('/home/hiroki/research/dcase2021_task2/src/functions')\n",
    "import common as com\n",
    "import pytorch_modeler as modeler\n",
    "from pytorch_model import EfficientNet_b1 as Model\n",
    "#from pytorch_utils import filtered_load_model\n",
    "#import models\n",
    "\n",
    "import librosa\n",
    "import IPython\n",
    "import librosa.display"
   ]
  },
  {
   "cell_type": "code",
   "execution_count": 4,
   "metadata": {},
   "outputs": [],
   "source": [
    "#model = timm.create_model('efficientnet_b1', pretrained=True)\n",
    "#3, 320, 320\n",
    "#name: (channel_multiplier, depth_multiplier, resolution, dropout_rate)\n",
    "#(1.4, 1.8, 380, 0.4)"
   ]
  },
  {
   "cell_type": "code",
   "execution_count": 5,
   "metadata": {},
   "outputs": [],
   "source": [
    "#model.blocks[0][0]"
   ]
  },
  {
   "cell_type": "markdown",
   "metadata": {},
   "source": [
    "## load config and set logger"
   ]
  },
  {
   "cell_type": "code",
   "execution_count": 6,
   "metadata": {},
   "outputs": [],
   "source": [
    "log_folder = config['IO_OPTION']['OUTPUT_ROOT']+'/{0}.log'.format(datetime.date.today())\n",
    "logger = com.setup_logger(log_folder, '00_train.py')"
   ]
  },
  {
   "cell_type": "markdown",
   "metadata": {},
   "source": [
    "## Setting"
   ]
  },
  {
   "cell_type": "code",
   "execution_count": 7,
   "metadata": {},
   "outputs": [],
   "source": [
    "# Setting seed\n",
    "modeler.set_seed(42)"
   ]
  },
  {
   "cell_type": "code",
   "execution_count": 8,
   "metadata": {},
   "outputs": [
    {
     "data": {
      "text/plain": [
       "'/media/hiroki/HDD1TB/research/DCASE_experiments/SSL-Efficientnet_Barlow_Twins/dcase2021_task2/config.yaml'"
      ]
     },
     "execution_count": 8,
     "metadata": {},
     "output_type": "execute_result"
    }
   ],
   "source": [
    "############################################################################\n",
    "# Setting I/O path\n",
    "############################################################################\n",
    "# input dirs\n",
    "INPUT_ROOT = config['IO_OPTION']['INPUT_ROOT']\n",
    "dev_dir = INPUT_ROOT + \"/dev_data\"\n",
    "add_dev_dir = INPUT_ROOT + \"/add_dev_data\"\n",
    "# machine type\n",
    "machine_types = os.listdir(dev_dir)\n",
    "# output dirs\n",
    "OUTPUT_ROOT = config['IO_OPTION']['OUTPUT_ROOT']\n",
    "MODEL_DIR = config['IO_OPTION']['OUTPUT_ROOT'] + '/models'\n",
    "TB_DIR = config['IO_OPTION']['OUTPUT_ROOT'] + '/tb'\n",
    "OUT_FEATURE_DIR = OUTPUT_ROOT + '/extraction_features'\n",
    "#os.makedirs(OUTPUT_ROOT, exist_ok=True)\n",
    "os.makedirs(MODEL_DIR, exist_ok=True)\n",
    "os.makedirs(TB_DIR, exist_ok=True)\n",
    "os.makedirs(OUT_FEATURE_DIR, exist_ok=True)\n",
    "# copy config\n",
    "shutil.copy('./config.yaml', OUTPUT_ROOT)"
   ]
  },
  {
   "cell_type": "code",
   "execution_count": 9,
   "metadata": {},
   "outputs": [
    {
     "data": {
      "text/plain": [
       "True"
      ]
     },
     "execution_count": 9,
     "metadata": {},
     "output_type": "execute_result"
    }
   ],
   "source": [
    "torch.cuda.is_available()"
   ]
  },
  {
   "cell_type": "markdown",
   "metadata": {},
   "source": [
    "## make path list"
   ]
  },
  {
   "cell_type": "markdown",
   "metadata": {},
   "source": [
    "- __train_paths__ ([dict]): Each Machine Type\n",
    "    - __ToyCar__ ([dict]): Each dataset\n",
    "        - train ([list]) : paths\n",
    "        - valid_source ([list]) : paths\n",
    "        - valid_target ([list]) :paths\n",
    "    - __ToyTrain__ ([dict]): Each dataset\n",
    "        - train ([list]) : paths\n",
    "        - valid_source ([list]) : paths\n",
    "        - valid_target ([list]) : paths\n",
    "    - ..."
   ]
  },
  {
   "cell_type": "code",
   "execution_count": 10,
   "metadata": {},
   "outputs": [
    {
     "name": "stdout",
     "output_type": "stream",
     "text": [
      "Machine fan,dev_train_size : 3009, source_size : 3000, target_size : 9, adddev_train_size : 3009, source_size : 3000, target_size : 9\n",
      "==============================================================\n",
      "Machine gearbox,dev_train_size : 3026, source_size : 3017, target_size : 9, adddev_train_size : 3026, source_size : 3105, target_size : 9\n",
      "==============================================================\n",
      "Machine pump,dev_train_size : 3009, source_size : 3000, target_size : 9, adddev_train_size : 3009, source_size : 3000, target_size : 9\n",
      "==============================================================\n",
      "Machine slider,dev_train_size : 3009, source_size : 3000, target_size : 9, adddev_train_size : 3009, source_size : 3000, target_size : 9\n",
      "==============================================================\n",
      "Machine ToyCar,dev_train_size : 3009, source_size : 3000, target_size : 9, adddev_train_size : 3009, source_size : 3000, target_size : 9\n",
      "==============================================================\n",
      "Machine ToyTrain,dev_train_size : 3009, source_size : 3000, target_size : 9, adddev_train_size : 3009, source_size : 3000, target_size : 9\n",
      "==============================================================\n",
      "Machine valve,dev_train_size : 3009, source_size : 3000, target_size : 9, adddev_train_size : 3009, source_size : 3000, target_size : 9\n",
      "==============================================================\n"
     ]
    }
   ],
   "source": [
    "dev_paths = {}\n",
    "\n",
    "for machine_type in machine_types:\n",
    "    # dev train\n",
    "    dev_train_paths = [f\"{dev_dir}/{machine_type}/train/\" + file for file in os.listdir(f\"{dev_dir}/{machine_type}/train\")]\n",
    "    dev_train_paths = sorted(dev_train_paths)\n",
    "    \n",
    "    print(f'Machine {machine_type}', end=',')\n",
    "    print(f'dev_train_size : {len(dev_train_paths)}', end=', ')\n",
    "    dev_train_source_paths = [path for path in dev_train_paths if 'source' in path]\n",
    "    print(f'source_size : {len(dev_train_source_paths)}', end=', ')\n",
    "    dev_train_target_paths = [path for path in dev_train_paths if 'target' in path]\n",
    "    print(f'target_size : {len(dev_train_target_paths)}', end=', ')\n",
    "    # source mode\n",
    "    dev_train_paths = dev_train_source_paths + dev_train_target_paths\n",
    "    \n",
    "    # add_dev train\n",
    "    add_dev_paths = [f\"{add_dev_dir}/{machine_type}/train/\" + file for file in os.listdir(f\"{add_dev_dir}/{machine_type}/train\")]\n",
    "    add_dev_paths = sorted(add_dev_paths)\n",
    "    print(f'adddev_train_size : {len(dev_train_paths)}', end=', ')\n",
    "    add_dev_source_paths = [path for path in add_dev_paths if 'source' in path]\n",
    "    print(f'source_size : {len(add_dev_source_paths)}', end=', ')\n",
    "    add_dev_target_paths = [path for path in add_dev_paths if 'target' in path]\n",
    "    print(f'target_size : {len(add_dev_target_paths)}')\n",
    "    # source mode\n",
    "    add_dev_paths = add_dev_source_paths + add_dev_target_paths\n",
    "    print('==============================================================')\n",
    "    \n",
    "    # dev_source valid\n",
    "    dev_source_paths = [f\"{dev_dir}/{machine_type}/source_test/\" + file for file in os.listdir(f\"{dev_dir}/{machine_type}/source_test\")]\n",
    "    dev_source_paths = sorted(dev_source_paths)\n",
    "    \n",
    "    # dev_target valid\n",
    "    dev_target_paths = [f\"{dev_dir}/{machine_type}/target_test/\" + file for file in os.listdir(f\"{dev_dir}/{machine_type}/target_test\")]\n",
    "    dev_target_paths = sorted(dev_target_paths)\n",
    "    \n",
    "    # bundle\n",
    "    dev_paths[machine_type] = {}\n",
    "    dev_paths[machine_type]['train'] = dev_train_paths + add_dev_paths\n",
    "    dev_paths[machine_type]['valid_source'] = dev_source_paths\n",
    "    dev_paths[machine_type]['valid_target'] = dev_target_paths"
   ]
  },
  {
   "cell_type": "code",
   "execution_count": 12,
   "metadata": {},
   "outputs": [
    {
     "data": {
      "text/plain": [
       "['fan', 'gearbox', 'pump', 'slider', 'ToyCar', 'ToyTrain', 'valve']"
      ]
     },
     "execution_count": 12,
     "metadata": {},
     "output_type": "execute_result"
    }
   ],
   "source": [
    "machine_types"
   ]
  },
  {
   "cell_type": "code",
   "execution_count": 11,
   "metadata": {},
   "outputs": [],
   "source": [
    "#############################################################################\n",
    "# run\n",
    "#############################################################################\n",
    "def run(machine_type, dev_paths):\n",
    "    com.tic()\n",
    "    os.makedirs(TB_DIR+'/'+machine_type, exist_ok=True)\n",
    "    tb_log_dir = TB_DIR + '/' + machine_type\n",
    "    writer = SummaryWriter(log_dir = tb_log_dir)\n",
    "    \n",
    "    logger.info('TARGET MACHINE_TYPE: {0}'.format(machine_type))\n",
    "    logger.info('MAKE DATA_LOADER')\n",
    "    # dev_train_paths\n",
    "    dataloaders_dict = modeler.make_dataloader(dev_paths, machine_type)\n",
    "    # parameter setting\n",
    "    logger.info('FEATURE EXTRACTION')\n",
    "    net = Model(n_out=config['param']['mel_bins'])\n",
    "    optimizer = optim.Adam(net.parameters(), lr=config['param']['lr'])\n",
    "    scheduler = torch.optim.lr_scheduler.OneCycleLR(optimizer, max_lr=0.001, steps_per_epoch=len(dataloaders_dict['train']), epochs=config['param']['num_epochs'])\n",
    "    output_dicts = modeler.train_net(net, dataloaders_dict, writer, optimizer, scheduler)\n",
    "    \n",
    "    out_path = f'{MODEL_DIR}/{machine_type}_model.pkl'\n",
    "    torch.save(output_dicts['net'], out_path)\n",
    "    logger.info(f'SAVE SUCCESS : {out_path}')\n",
    "    \n",
    "    com.toc()"
   ]
  },
  {
   "cell_type": "markdown",
   "metadata": {},
   "source": [
    "# run"
   ]
  },
  {
   "cell_type": "code",
   "execution_count": null,
   "metadata": {
    "code_folding": [],
    "scrolled": true
   },
   "outputs": [
    {
     "name": "stderr",
     "output_type": "stream",
     "text": [
      "2021-08-12 16:57:45,823 - 00_train.py - INFO - TARGET MACHINE_TYPE: fan\n",
      "2021-08-12 16:57:45,824 - 00_train.py - INFO - MAKE DATA_LOADER\n",
      "2021-08-12 16:57:45,825 - 00_train.py - INFO - FEATURE EXTRACTION\n"
     ]
    },
    {
     "name": "stdout",
     "output_type": "stream",
     "text": [
      "use: cuda:0\n"
     ]
    },
    {
     "name": "stderr",
     "output_type": "stream",
     "text": [
      "100%|██████████| 48/48 [00:31<00:00,  1.55it/s]\n",
      "2021-08-12 16:58:19,984 - pytorch_modeler.py - INFO - epoch:1/300, tr_loss:64193.139282\n",
      "100%|██████████| 48/48 [00:30<00:00,  1.59it/s]\n",
      "2021-08-12 16:58:50,160 - pytorch_modeler.py - INFO - epoch:2/300, tr_loss:62613.353638\n",
      "100%|██████████| 48/48 [00:30<00:00,  1.60it/s]\n",
      "2021-08-12 16:59:20,220 - pytorch_modeler.py - INFO - epoch:3/300, tr_loss:59394.322876\n",
      "100%|██████████| 48/48 [00:29<00:00,  1.61it/s]\n",
      "2021-08-12 16:59:49,974 - pytorch_modeler.py - INFO - epoch:4/300, tr_loss:56557.232422\n",
      "100%|██████████| 48/48 [00:30<00:00,  1.58it/s]\n",
      "2021-08-12 17:00:20,355 - pytorch_modeler.py - INFO - epoch:5/300, tr_loss:55033.081909\n",
      "100%|██████████| 48/48 [00:30<00:00,  1.59it/s]\n",
      "2021-08-12 17:00:50,495 - pytorch_modeler.py - INFO - epoch:6/300, tr_loss:52975.909424\n",
      "100%|██████████| 48/48 [00:30<00:00,  1.59it/s]\n",
      "2021-08-12 17:01:20,777 - pytorch_modeler.py - INFO - epoch:7/300, tr_loss:50493.723755\n",
      "100%|██████████| 48/48 [00:29<00:00,  1.60it/s]\n",
      "2021-08-12 17:01:50,741 - pytorch_modeler.py - INFO - epoch:8/300, tr_loss:50860.990112\n",
      "100%|██████████| 48/48 [00:30<00:00,  1.60it/s]\n",
      "2021-08-12 17:02:20,828 - pytorch_modeler.py - INFO - epoch:9/300, tr_loss:50244.955750\n",
      "100%|██████████| 48/48 [00:29<00:00,  1.61it/s]\n",
      "2021-08-12 17:02:50,682 - pytorch_modeler.py - INFO - epoch:10/300, tr_loss:48870.074768\n",
      "100%|██████████| 48/48 [00:29<00:00,  1.61it/s]\n",
      "2021-08-12 17:03:20,557 - pytorch_modeler.py - INFO - epoch:11/300, tr_loss:46386.668518\n",
      "100%|██████████| 48/48 [00:30<00:00,  1.56it/s]\n",
      "2021-08-12 17:03:51,391 - pytorch_modeler.py - INFO - epoch:12/300, tr_loss:45987.324768\n",
      "100%|██████████| 48/48 [00:31<00:00,  1.52it/s]\n",
      "2021-08-12 17:04:22,901 - pytorch_modeler.py - INFO - epoch:13/300, tr_loss:45984.948059\n",
      "100%|██████████| 48/48 [00:31<00:00,  1.51it/s]\n",
      "2021-08-12 17:04:54,709 - pytorch_modeler.py - INFO - epoch:14/300, tr_loss:44991.356567\n",
      "100%|██████████| 48/48 [00:30<00:00,  1.56it/s]\n",
      "2021-08-12 17:05:25,535 - pytorch_modeler.py - INFO - epoch:15/300, tr_loss:44215.961975\n",
      "100%|██████████| 48/48 [00:29<00:00,  1.61it/s]\n",
      "2021-08-12 17:05:55,441 - pytorch_modeler.py - INFO - epoch:16/300, tr_loss:44953.881409\n",
      "100%|██████████| 48/48 [00:30<00:00,  1.60it/s]\n",
      "2021-08-12 17:06:25,474 - pytorch_modeler.py - INFO - epoch:17/300, tr_loss:42713.175720\n",
      "100%|██████████| 48/48 [00:29<00:00,  1.61it/s]\n",
      "2021-08-12 17:06:55,296 - pytorch_modeler.py - INFO - epoch:18/300, tr_loss:42518.459534\n",
      "100%|██████████| 48/48 [00:29<00:00,  1.62it/s]\n",
      "2021-08-12 17:07:24,978 - pytorch_modeler.py - INFO - epoch:19/300, tr_loss:44086.290527\n",
      "100%|██████████| 48/48 [00:29<00:00,  1.61it/s]\n",
      "2021-08-12 17:07:54,824 - pytorch_modeler.py - INFO - epoch:20/300, tr_loss:41710.228638\n",
      "100%|██████████| 48/48 [00:30<00:00,  1.57it/s]\n",
      "2021-08-12 17:08:25,382 - pytorch_modeler.py - INFO - epoch:21/300, tr_loss:42015.310730\n",
      "100%|██████████| 48/48 [00:30<00:00,  1.57it/s]\n",
      "2021-08-12 17:08:55,933 - pytorch_modeler.py - INFO - epoch:22/300, tr_loss:41607.722717\n",
      "100%|██████████| 48/48 [00:30<00:00,  1.57it/s]\n",
      "2021-08-12 17:09:26,430 - pytorch_modeler.py - INFO - epoch:23/300, tr_loss:40943.963928\n",
      "100%|██████████| 48/48 [00:30<00:00,  1.56it/s]\n",
      "2021-08-12 17:09:57,228 - pytorch_modeler.py - INFO - epoch:24/300, tr_loss:41783.681580\n",
      "100%|██████████| 48/48 [00:29<00:00,  1.63it/s]\n",
      "2021-08-12 17:10:26,751 - pytorch_modeler.py - INFO - epoch:25/300, tr_loss:42455.750183\n",
      "100%|██████████| 48/48 [00:28<00:00,  1.66it/s]\n",
      "2021-08-12 17:10:55,651 - pytorch_modeler.py - INFO - epoch:26/300, tr_loss:42495.474609\n",
      "100%|██████████| 48/48 [00:28<00:00,  1.66it/s]\n",
      "2021-08-12 17:11:24,517 - pytorch_modeler.py - INFO - epoch:27/300, tr_loss:42070.008362\n",
      "100%|██████████| 48/48 [00:28<00:00,  1.66it/s]\n",
      "2021-08-12 17:11:53,421 - pytorch_modeler.py - INFO - epoch:28/300, tr_loss:41644.713989\n",
      "100%|██████████| 48/48 [00:29<00:00,  1.64it/s]\n",
      "2021-08-12 17:12:22,781 - pytorch_modeler.py - INFO - epoch:29/300, tr_loss:40346.080139\n",
      "100%|██████████| 48/48 [00:28<00:00,  1.66it/s]\n",
      "2021-08-12 17:12:51,739 - pytorch_modeler.py - INFO - epoch:30/300, tr_loss:39345.626587\n",
      "100%|██████████| 48/48 [00:28<00:00,  1.66it/s]\n",
      "2021-08-12 17:13:20,738 - pytorch_modeler.py - INFO - epoch:31/300, tr_loss:41064.730408\n",
      "100%|██████████| 48/48 [00:28<00:00,  1.68it/s]\n",
      "2021-08-12 17:13:49,347 - pytorch_modeler.py - INFO - epoch:32/300, tr_loss:39309.126526\n",
      "100%|██████████| 48/48 [00:28<00:00,  1.66it/s]\n",
      "2021-08-12 17:14:18,277 - pytorch_modeler.py - INFO - epoch:33/300, tr_loss:40802.451904\n",
      "100%|██████████| 48/48 [00:28<00:00,  1.68it/s]\n",
      "2021-08-12 17:14:46,843 - pytorch_modeler.py - INFO - epoch:34/300, tr_loss:40342.544983\n",
      "100%|██████████| 48/48 [00:28<00:00,  1.68it/s]\n",
      "2021-08-12 17:15:15,384 - pytorch_modeler.py - INFO - epoch:35/300, tr_loss:40009.125122\n",
      "100%|██████████| 48/48 [00:28<00:00,  1.69it/s]\n",
      "2021-08-12 17:15:43,858 - pytorch_modeler.py - INFO - epoch:36/300, tr_loss:38280.351685\n",
      "100%|██████████| 48/48 [00:28<00:00,  1.66it/s]\n",
      "2021-08-12 17:16:12,833 - pytorch_modeler.py - INFO - epoch:37/300, tr_loss:40190.806519\n",
      "100%|██████████| 48/48 [00:28<00:00,  1.68it/s]\n",
      "2021-08-12 17:16:41,418 - pytorch_modeler.py - INFO - epoch:38/300, tr_loss:40200.405823\n",
      "100%|██████████| 48/48 [00:28<00:00,  1.68it/s]\n",
      "2021-08-12 17:17:09,933 - pytorch_modeler.py - INFO - epoch:39/300, tr_loss:38000.634216\n",
      "100%|██████████| 48/48 [00:28<00:00,  1.69it/s]\n",
      "2021-08-12 17:17:38,416 - pytorch_modeler.py - INFO - epoch:40/300, tr_loss:37563.182007\n",
      "100%|██████████| 48/48 [00:29<00:00,  1.65it/s]\n",
      "2021-08-12 17:18:07,463 - pytorch_modeler.py - INFO - epoch:41/300, tr_loss:38387.895813\n",
      "100%|██████████| 48/48 [00:28<00:00,  1.68it/s]\n",
      "2021-08-12 17:18:36,077 - pytorch_modeler.py - INFO - epoch:42/300, tr_loss:38312.521667\n",
      "100%|██████████| 48/48 [00:28<00:00,  1.67it/s]\n",
      "2021-08-12 17:19:04,825 - pytorch_modeler.py - INFO - epoch:43/300, tr_loss:37843.093140\n",
      "100%|██████████| 48/48 [00:28<00:00,  1.68it/s]\n",
      "2021-08-12 17:19:33,377 - pytorch_modeler.py - INFO - epoch:44/300, tr_loss:39673.256897\n",
      "100%|██████████| 48/48 [00:28<00:00,  1.66it/s]\n",
      "2021-08-12 17:20:02,269 - pytorch_modeler.py - INFO - epoch:45/300, tr_loss:37810.026733\n",
      "100%|██████████| 48/48 [00:28<00:00,  1.68it/s]\n",
      "2021-08-12 17:20:30,766 - pytorch_modeler.py - INFO - epoch:46/300, tr_loss:38206.358826\n",
      "100%|██████████| 48/48 [00:28<00:00,  1.68it/s]\n",
      "2021-08-12 17:20:59,271 - pytorch_modeler.py - INFO - epoch:47/300, tr_loss:38465.378967\n",
      "100%|██████████| 48/48 [00:28<00:00,  1.68it/s]\n",
      "2021-08-12 17:21:27,872 - pytorch_modeler.py - INFO - epoch:48/300, tr_loss:37223.768799\n",
      "100%|██████████| 48/48 [00:28<00:00,  1.66it/s]\n",
      "2021-08-12 17:21:56,865 - pytorch_modeler.py - INFO - epoch:49/300, tr_loss:36743.812561\n",
      "100%|██████████| 48/48 [00:28<00:00,  1.68it/s]\n",
      "2021-08-12 17:22:25,392 - pytorch_modeler.py - INFO - epoch:50/300, tr_loss:38284.682251\n",
      "100%|██████████| 48/48 [00:28<00:00,  1.67it/s]\n",
      "2021-08-12 17:22:54,083 - pytorch_modeler.py - INFO - epoch:51/300, tr_loss:38737.533936\n",
      "100%|██████████| 48/48 [00:28<00:00,  1.68it/s]\n",
      "2021-08-12 17:23:22,693 - pytorch_modeler.py - INFO - epoch:52/300, tr_loss:38730.614624\n",
      "100%|██████████| 48/48 [00:28<00:00,  1.68it/s]\n",
      "2021-08-12 17:23:51,274 - pytorch_modeler.py - INFO - epoch:53/300, tr_loss:37415.589539\n",
      "100%|██████████| 48/48 [00:29<00:00,  1.64it/s]\n",
      "2021-08-12 17:24:20,468 - pytorch_modeler.py - INFO - epoch:54/300, tr_loss:38125.734314\n",
      "100%|██████████| 48/48 [00:28<00:00,  1.68it/s]\n",
      "2021-08-12 17:24:49,049 - pytorch_modeler.py - INFO - epoch:55/300, tr_loss:38188.267578\n",
      "100%|██████████| 48/48 [00:28<00:00,  1.68it/s]\n",
      "2021-08-12 17:25:17,548 - pytorch_modeler.py - INFO - epoch:56/300, tr_loss:36050.905334\n",
      "100%|██████████| 48/48 [00:28<00:00,  1.68it/s]\n",
      "2021-08-12 17:25:46,092 - pytorch_modeler.py - INFO - epoch:57/300, tr_loss:36501.914307\n",
      "100%|██████████| 48/48 [00:28<00:00,  1.66it/s]\n",
      "2021-08-12 17:26:15,025 - pytorch_modeler.py - INFO - epoch:58/300, tr_loss:36173.146240\n",
      "100%|██████████| 48/48 [00:28<00:00,  1.68it/s]\n",
      "2021-08-12 17:26:43,550 - pytorch_modeler.py - INFO - epoch:59/300, tr_loss:37614.570679\n",
      "100%|██████████| 48/48 [00:28<00:00,  1.68it/s]\n",
      "2021-08-12 17:27:12,127 - pytorch_modeler.py - INFO - epoch:60/300, tr_loss:35521.513123\n"
     ]
    },
    {
     "name": "stderr",
     "output_type": "stream",
     "text": [
      "100%|██████████| 48/48 [00:28<00:00,  1.68it/s]\n",
      "2021-08-12 17:27:40,727 - pytorch_modeler.py - INFO - epoch:61/300, tr_loss:38090.017761\n",
      "100%|██████████| 48/48 [00:28<00:00,  1.66it/s]\n",
      "2021-08-12 17:28:09,616 - pytorch_modeler.py - INFO - epoch:62/300, tr_loss:36600.686890\n",
      "100%|██████████| 48/48 [00:28<00:00,  1.68it/s]\n",
      "2021-08-12 17:28:38,233 - pytorch_modeler.py - INFO - epoch:63/300, tr_loss:35801.614197\n",
      "100%|██████████| 48/48 [00:28<00:00,  1.68it/s]\n",
      "2021-08-12 17:29:06,874 - pytorch_modeler.py - INFO - epoch:64/300, tr_loss:35779.560181\n",
      "100%|██████████| 48/48 [00:30<00:00,  1.59it/s]\n",
      "2021-08-12 17:29:36,994 - pytorch_modeler.py - INFO - epoch:65/300, tr_loss:35850.868958\n",
      "100%|██████████| 48/48 [00:31<00:00,  1.50it/s]\n",
      "2021-08-12 17:30:08,909 - pytorch_modeler.py - INFO - epoch:66/300, tr_loss:35149.927307\n",
      "100%|██████████| 48/48 [00:31<00:00,  1.51it/s]\n",
      "2021-08-12 17:30:40,714 - pytorch_modeler.py - INFO - epoch:67/300, tr_loss:36438.966125\n",
      "100%|██████████| 48/48 [00:30<00:00,  1.59it/s]\n",
      "2021-08-12 17:31:10,997 - pytorch_modeler.py - INFO - epoch:68/300, tr_loss:35512.307251\n",
      "100%|██████████| 48/48 [00:31<00:00,  1.53it/s]\n",
      "2021-08-12 17:31:42,376 - pytorch_modeler.py - INFO - epoch:69/300, tr_loss:35754.630432\n",
      "100%|██████████| 48/48 [00:32<00:00,  1.49it/s]\n",
      "2021-08-12 17:32:14,614 - pytorch_modeler.py - INFO - epoch:70/300, tr_loss:35685.097595\n",
      "100%|██████████| 48/48 [00:29<00:00,  1.62it/s]\n",
      "2021-08-12 17:32:44,296 - pytorch_modeler.py - INFO - epoch:71/300, tr_loss:36062.072510\n",
      "100%|██████████| 48/48 [00:31<00:00,  1.54it/s]\n",
      "2021-08-12 17:33:15,448 - pytorch_modeler.py - INFO - epoch:72/300, tr_loss:35264.038635\n",
      "100%|██████████| 48/48 [00:32<00:00,  1.48it/s]\n",
      "2021-08-12 17:33:47,883 - pytorch_modeler.py - INFO - epoch:73/300, tr_loss:35362.336487\n",
      "100%|██████████| 48/48 [00:30<00:00,  1.57it/s]\n",
      "2021-08-12 17:34:18,374 - pytorch_modeler.py - INFO - epoch:74/300, tr_loss:34776.687561\n",
      "100%|██████████| 48/48 [00:28<00:00,  1.66it/s]\n",
      "2021-08-12 17:34:47,251 - pytorch_modeler.py - INFO - epoch:75/300, tr_loss:36480.321533\n",
      "100%|██████████| 48/48 [00:29<00:00,  1.61it/s]\n",
      "2021-08-12 17:35:17,095 - pytorch_modeler.py - INFO - epoch:76/300, tr_loss:35784.726013\n",
      "100%|██████████| 48/48 [00:33<00:00,  1.45it/s]\n",
      "2021-08-12 17:35:50,101 - pytorch_modeler.py - INFO - epoch:77/300, tr_loss:36705.537292\n",
      "100%|██████████| 48/48 [00:34<00:00,  1.40it/s]\n",
      "2021-08-12 17:36:24,288 - pytorch_modeler.py - INFO - epoch:78/300, tr_loss:35284.576721\n",
      "100%|██████████| 48/48 [00:31<00:00,  1.51it/s]\n",
      "2021-08-12 17:36:56,144 - pytorch_modeler.py - INFO - epoch:79/300, tr_loss:36458.273682\n",
      "100%|██████████| 48/48 [00:31<00:00,  1.51it/s]\n",
      "2021-08-12 17:37:27,965 - pytorch_modeler.py - INFO - epoch:80/300, tr_loss:34756.054565\n",
      "100%|██████████| 48/48 [00:31<00:00,  1.53it/s]\n",
      "2021-08-12 17:37:59,362 - pytorch_modeler.py - INFO - epoch:81/300, tr_loss:33880.439819\n",
      "100%|██████████| 48/48 [00:31<00:00,  1.54it/s]\n",
      "2021-08-12 17:38:30,556 - pytorch_modeler.py - INFO - epoch:82/300, tr_loss:34723.088989\n",
      "100%|██████████| 48/48 [00:31<00:00,  1.53it/s]\n",
      "2021-08-12 17:39:01,877 - pytorch_modeler.py - INFO - epoch:83/300, tr_loss:34752.319275\n",
      "100%|██████████| 48/48 [00:32<00:00,  1.46it/s]\n",
      "2021-08-12 17:39:34,724 - pytorch_modeler.py - INFO - epoch:84/300, tr_loss:33793.144897\n",
      "100%|██████████| 48/48 [00:29<00:00,  1.62it/s]\n",
      "2021-08-12 17:40:04,426 - pytorch_modeler.py - INFO - epoch:85/300, tr_loss:34068.293030\n",
      "100%|██████████| 48/48 [00:29<00:00,  1.60it/s]\n",
      "2021-08-12 17:40:34,364 - pytorch_modeler.py - INFO - epoch:86/300, tr_loss:33888.488770\n",
      "100%|██████████| 48/48 [00:32<00:00,  1.47it/s]\n",
      "2021-08-12 17:41:07,094 - pytorch_modeler.py - INFO - epoch:87/300, tr_loss:34153.566284\n",
      "100%|██████████| 48/48 [00:31<00:00,  1.53it/s]\n",
      "2021-08-12 17:41:38,478 - pytorch_modeler.py - INFO - epoch:88/300, tr_loss:36148.439819\n",
      "100%|██████████| 48/48 [00:31<00:00,  1.53it/s]\n",
      "2021-08-12 17:42:09,754 - pytorch_modeler.py - INFO - epoch:89/300, tr_loss:34449.686584\n",
      "100%|██████████| 48/48 [00:32<00:00,  1.50it/s]\n",
      "2021-08-12 17:42:41,843 - pytorch_modeler.py - INFO - epoch:90/300, tr_loss:34751.674988\n",
      "100%|██████████| 48/48 [00:32<00:00,  1.47it/s]\n",
      "2021-08-12 17:43:14,544 - pytorch_modeler.py - INFO - epoch:91/300, tr_loss:35577.637939\n",
      "100%|██████████| 48/48 [00:31<00:00,  1.54it/s]\n",
      "2021-08-12 17:43:45,803 - pytorch_modeler.py - INFO - epoch:92/300, tr_loss:35306.727417\n",
      "100%|██████████| 48/48 [00:33<00:00,  1.45it/s]\n",
      "2021-08-12 17:44:18,930 - pytorch_modeler.py - INFO - epoch:93/300, tr_loss:34166.563049\n",
      "100%|██████████| 48/48 [00:30<00:00,  1.56it/s]\n",
      "2021-08-12 17:44:49,671 - pytorch_modeler.py - INFO - epoch:94/300, tr_loss:34441.241089\n",
      "100%|██████████| 48/48 [00:32<00:00,  1.48it/s]\n",
      "2021-08-12 17:45:22,194 - pytorch_modeler.py - INFO - epoch:95/300, tr_loss:34501.812134\n",
      "100%|██████████| 48/48 [00:29<00:00,  1.62it/s]\n",
      "2021-08-12 17:45:51,762 - pytorch_modeler.py - INFO - epoch:96/300, tr_loss:34400.636108\n",
      " 54%|█████▍    | 26/48 [00:16<00:13,  1.58it/s]"
     ]
    }
   ],
   "source": [
    "for machine_type in machine_types:\n",
    "    run(machine_type, dev_paths)"
   ]
  }
 ],
 "metadata": {
  "kernelspec": {
   "display_name": "Environment (conda_dcase2021_task2)",
   "language": "python",
   "name": "conda_dcase2021_task2"
  },
  "language_info": {
   "codemirror_mode": {
    "name": "ipython",
    "version": 3
   },
   "file_extension": ".py",
   "mimetype": "text/x-python",
   "name": "python",
   "nbconvert_exporter": "python",
   "pygments_lexer": "ipython3",
   "version": "3.8.8"
  },
  "toc": {
   "base_numbering": 1,
   "nav_menu": {},
   "number_sections": true,
   "sideBar": true,
   "skip_h1_title": false,
   "title_cell": "Table of Contents",
   "title_sidebar": "Contents",
   "toc_cell": false,
   "toc_position": {},
   "toc_section_display": true,
   "toc_window_display": false
  }
 },
 "nbformat": 4,
 "nbformat_minor": 4
}
