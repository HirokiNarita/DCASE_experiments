{
 "cells": [
  {
   "cell_type": "markdown",
   "metadata": {},
   "source": [
    "# train"
   ]
  },
  {
   "cell_type": "code",
   "execution_count": 1,
   "metadata": {},
   "outputs": [
    {
     "name": "stderr",
     "output_type": "stream",
     "text": [
      "<ipython-input-1-1499ab5789c7>:5: YAMLLoadWarning: calling yaml.load() without Loader=... is deprecated, as the default Loader is unsafe. Please read https://msg.pyyaml.org/load for full details.\n",
      "  config = yaml.load(f)\n"
     ]
    }
   ],
   "source": [
    "import yaml\n",
    "import os\n",
    "\n",
    "with open(\"./config.yaml\", 'rb') as f:\n",
    "    config = yaml.load(f)"
   ]
  },
  {
   "cell_type": "code",
   "execution_count": 2,
   "metadata": {},
   "outputs": [],
   "source": [
    "OUTPUT_ROOT = config['IO_OPTION']['OUTPUT_ROOT']\n",
    "os.makedirs(OUTPUT_ROOT, exist_ok=True)"
   ]
  },
  {
   "cell_type": "markdown",
   "metadata": {},
   "source": [
    "## load library"
   ]
  },
  {
   "cell_type": "code",
   "execution_count": 3,
   "metadata": {},
   "outputs": [],
   "source": [
    "# python default library\n",
    "import os\n",
    "import shutil\n",
    "import datetime\n",
    "import sys\n",
    "import pickle\n",
    "\n",
    "# general analysis tool-kit\n",
    "import numpy as np\n",
    "import pandas as pd\n",
    "#from sklearn.model_selection import train_test_split\n",
    "import matplotlib.pyplot as plt\n",
    "import seaborn as sns\n",
    "\n",
    "# pytorch\n",
    "import torch\n",
    "from torch import optim, nn\n",
    "from torch.utils.tensorboard import SummaryWriter\n",
    "import timm\n",
    "#from torchvision.models import wide_resnet50_2, resnet18\n",
    "#from torchsummary import summary\n",
    "\n",
    "# etc\n",
    "import yaml\n",
    "yaml.warnings({'YAMLLoadWarning': False})\n",
    "\n",
    "# original library\n",
    "sys.path.append('/home/hiroki/research/dcase2021_task2/src/functions')\n",
    "import common as com\n",
    "import pytorch_modeler as modeler\n",
    "from pytorch_model import EfficientNet_b1 as Model\n",
    "#from pytorch_utils import filtered_load_model\n",
    "#import models\n",
    "\n",
    "import librosa\n",
    "import IPython\n",
    "import librosa.display"
   ]
  },
  {
   "cell_type": "code",
   "execution_count": 4,
   "metadata": {},
   "outputs": [],
   "source": [
    "#model = timm.create_model('efficientnet_b1', pretrained=True)\n",
    "#3, 320, 320\n",
    "#name: (channel_multiplier, depth_multiplier, resolution, dropout_rate)\n",
    "#(1.4, 1.8, 380, 0.4)"
   ]
  },
  {
   "cell_type": "code",
   "execution_count": 5,
   "metadata": {},
   "outputs": [],
   "source": [
    "#model.blocks[0][0]"
   ]
  },
  {
   "cell_type": "markdown",
   "metadata": {},
   "source": [
    "## load config and set logger"
   ]
  },
  {
   "cell_type": "code",
   "execution_count": 6,
   "metadata": {},
   "outputs": [],
   "source": [
    "log_folder = config['IO_OPTION']['OUTPUT_ROOT']+'/{0}.log'.format(datetime.date.today())\n",
    "logger = com.setup_logger(log_folder, '00_train.py')"
   ]
  },
  {
   "cell_type": "markdown",
   "metadata": {},
   "source": [
    "## Setting"
   ]
  },
  {
   "cell_type": "code",
   "execution_count": 7,
   "metadata": {},
   "outputs": [],
   "source": [
    "# Setting seed\n",
    "modeler.set_seed(42)"
   ]
  },
  {
   "cell_type": "code",
   "execution_count": 8,
   "metadata": {},
   "outputs": [
    {
     "data": {
      "text/plain": [
       "'/media/hiroki/HDD1TB/research/DCASE_experiments/SSL-Efficientnet/dcase2021_task2/config.yaml'"
      ]
     },
     "execution_count": 8,
     "metadata": {},
     "output_type": "execute_result"
    }
   ],
   "source": [
    "############################################################################\n",
    "# Setting I/O path\n",
    "############################################################################\n",
    "# input dirs\n",
    "INPUT_ROOT = config['IO_OPTION']['INPUT_ROOT']\n",
    "dev_dir = INPUT_ROOT + \"/dev_data\"\n",
    "add_dev_dir = INPUT_ROOT + \"/add_dev_data\"\n",
    "# machine type\n",
    "machine_types = os.listdir(dev_dir)\n",
    "# output dirs\n",
    "OUTPUT_ROOT = config['IO_OPTION']['OUTPUT_ROOT']\n",
    "MODEL_DIR = config['IO_OPTION']['OUTPUT_ROOT'] + '/models'\n",
    "TB_DIR = config['IO_OPTION']['OUTPUT_ROOT'] + '/tb'\n",
    "OUT_FEATURE_DIR = OUTPUT_ROOT + '/extraction_features'\n",
    "#os.makedirs(OUTPUT_ROOT, exist_ok=True)\n",
    "os.makedirs(MODEL_DIR, exist_ok=True)\n",
    "os.makedirs(TB_DIR, exist_ok=True)\n",
    "os.makedirs(OUT_FEATURE_DIR, exist_ok=True)\n",
    "# copy config\n",
    "shutil.copy('./config.yaml', OUTPUT_ROOT)"
   ]
  },
  {
   "cell_type": "code",
   "execution_count": 9,
   "metadata": {},
   "outputs": [
    {
     "data": {
      "text/plain": [
       "True"
      ]
     },
     "execution_count": 9,
     "metadata": {},
     "output_type": "execute_result"
    }
   ],
   "source": [
    "torch.cuda.is_available()"
   ]
  },
  {
   "cell_type": "markdown",
   "metadata": {},
   "source": [
    "## make path list"
   ]
  },
  {
   "cell_type": "markdown",
   "metadata": {},
   "source": [
    "- __train_paths__ ([dict]): Each Machine Type\n",
    "    - __ToyCar__ ([dict]): Each dataset\n",
    "        - train ([list]) : paths\n",
    "        - valid_source ([list]) : paths\n",
    "        - valid_target ([list]) :paths\n",
    "    - __ToyTrain__ ([dict]): Each dataset\n",
    "        - train ([list]) : paths\n",
    "        - valid_source ([list]) : paths\n",
    "        - valid_target ([list]) : paths\n",
    "    - ..."
   ]
  },
  {
   "cell_type": "code",
   "execution_count": 10,
   "metadata": {},
   "outputs": [
    {
     "name": "stdout",
     "output_type": "stream",
     "text": [
      "Machine fan,dev_train_size : 3009, source_size : 3000, target_size : 9, adddev_train_size : 3000, source_size : 3000, target_size : 9\n",
      "==============================================================\n",
      "Machine gearbox,dev_train_size : 3026, source_size : 3017, target_size : 9, adddev_train_size : 3017, source_size : 3105, target_size : 9\n",
      "==============================================================\n",
      "Machine pump,dev_train_size : 3009, source_size : 3000, target_size : 9, adddev_train_size : 3000, source_size : 3000, target_size : 9\n",
      "==============================================================\n",
      "Machine slider,dev_train_size : 3009, source_size : 3000, target_size : 9, adddev_train_size : 3000, source_size : 3000, target_size : 9\n",
      "==============================================================\n",
      "Machine ToyCar,dev_train_size : 3009, source_size : 3000, target_size : 9, adddev_train_size : 3000, source_size : 3000, target_size : 9\n",
      "==============================================================\n",
      "Machine ToyTrain,dev_train_size : 3009, source_size : 3000, target_size : 9, adddev_train_size : 3000, source_size : 3000, target_size : 9\n",
      "==============================================================\n",
      "Machine valve,dev_train_size : 3009, source_size : 3000, target_size : 9, adddev_train_size : 3000, source_size : 3000, target_size : 9\n",
      "==============================================================\n"
     ]
    }
   ],
   "source": [
    "dev_paths = {}\n",
    "\n",
    "for machine_type in machine_types:\n",
    "    # dev train\n",
    "    dev_train_paths = [f\"{dev_dir}/{machine_type}/train/\" + file for file in os.listdir(f\"{dev_dir}/{machine_type}/train\")]\n",
    "    dev_train_paths = sorted(dev_train_paths)\n",
    "    \n",
    "    print(f'Machine {machine_type}', end=',')\n",
    "    print(f'dev_train_size : {len(dev_train_paths)}', end=', ')\n",
    "    dev_train_source_paths = [path for path in dev_train_paths if 'source' in path]\n",
    "    print(f'source_size : {len(dev_train_source_paths)}', end=', ')\n",
    "    dev_train_target_paths = [path for path in dev_train_paths if 'target' in path]\n",
    "    print(f'target_size : {len(dev_train_target_paths)}', end=', ')\n",
    "    # source mode\n",
    "    dev_train_paths = dev_train_source_paths\n",
    "    \n",
    "    # add_dev train\n",
    "    add_dev_paths = [f\"{add_dev_dir}/{machine_type}/train/\" + file for file in os.listdir(f\"{add_dev_dir}/{machine_type}/train\")]\n",
    "    add_dev_paths = sorted(add_dev_paths)\n",
    "    print(f'adddev_train_size : {len(dev_train_paths)}', end=', ')\n",
    "    add_dev_source_paths = [path for path in add_dev_paths if 'source' in path]\n",
    "    print(f'source_size : {len(add_dev_source_paths)}', end=', ')\n",
    "    add_dev_target_paths = [path for path in add_dev_paths if 'target' in path]\n",
    "    print(f'target_size : {len(add_dev_target_paths)}')\n",
    "    # source mode\n",
    "    add_dev_paths = add_dev_source_paths\n",
    "    print('==============================================================')\n",
    "    \n",
    "    # dev_source valid\n",
    "    dev_source_paths = [f\"{dev_dir}/{machine_type}/source_test/\" + file for file in os.listdir(f\"{dev_dir}/{machine_type}/source_test\")]\n",
    "    dev_source_paths = sorted(dev_source_paths)\n",
    "    \n",
    "    # dev_target valid\n",
    "    dev_target_paths = [f\"{dev_dir}/{machine_type}/target_test/\" + file for file in os.listdir(f\"{dev_dir}/{machine_type}/target_test\")]\n",
    "    dev_target_paths = sorted(dev_target_paths)\n",
    "    \n",
    "    # bundle\n",
    "    dev_paths[machine_type] = {}\n",
    "    dev_paths[machine_type]['train'] = dev_train_paths + add_dev_paths\n",
    "    dev_paths[machine_type]['valid_source'] = dev_source_paths\n",
    "    dev_paths[machine_type]['valid_target'] = dev_target_paths"
   ]
  },
  {
   "cell_type": "markdown",
   "metadata": {},
   "source": [
    "## training"
   ]
  },
  {
   "cell_type": "code",
   "execution_count": 11,
   "metadata": {},
   "outputs": [],
   "source": [
    "#############################################################################\n",
    "# run\n",
    "#############################################################################\n",
    "def run(machine_type, dev_paths):\n",
    "    com.tic()\n",
    "    os.makedirs(TB_DIR+'/'+machine_type, exist_ok=True)\n",
    "    tb_log_dir = TB_DIR + '/' + machine_type\n",
    "    writer = SummaryWriter(log_dir = tb_log_dir)\n",
    "    \n",
    "    logger.info('TARGET MACHINE_TYPE: {0}'.format(machine_type))\n",
    "    logger.info('MAKE DATA_LOADER')\n",
    "    # dev_train_paths\n",
    "    dataloaders_dict = modeler.make_dataloader(dev_paths, machine_type)\n",
    "    # parameter setting\n",
    "    logger.info('FEATURE EXTRACTION')\n",
    "    net = Model(n_out=config['param']['mel_bins'])\n",
    "    optimizer = optim.Adam(net.parameters(), lr=config['param']['lr'])\n",
    "    output_dicts = modeler.train_net(net, dataloaders_dict, writer, optimizer)\n",
    "    \n",
    "    out_path = f'{MODEL_DIR}/{machine_type}_model.pkl'\n",
    "    torch.save(output_dicts['net'], out_path)\n",
    "    logger.info(f'SAVE SUCCESS : {out_path}')\n",
    "    \n",
    "    com.toc()"
   ]
  },
  {
   "cell_type": "code",
   "execution_count": 12,
   "metadata": {},
   "outputs": [
    {
     "data": {
      "text/plain": [
       "['fan', 'gearbox', 'pump', 'slider', 'ToyCar', 'ToyTrain', 'valve']"
      ]
     },
     "execution_count": 12,
     "metadata": {},
     "output_type": "execute_result"
    }
   ],
   "source": [
    "machine_types"
   ]
  },
  {
   "cell_type": "markdown",
   "metadata": {},
   "source": [
    "# run"
   ]
  },
  {
   "cell_type": "code",
   "execution_count": null,
   "metadata": {
    "code_folding": [],
    "scrolled": true
   },
   "outputs": [
    {
     "name": "stderr",
     "output_type": "stream",
     "text": [
      "2021-08-10 00:13:29,875 - 00_train.py - INFO - TARGET MACHINE_TYPE: fan\n",
      "2021-08-10 00:13:29,875 - 00_train.py - INFO - MAKE DATA_LOADER\n",
      "2021-08-10 00:13:29,876 - 00_train.py - INFO - FEATURE EXTRACTION\n"
     ]
    },
    {
     "name": "stdout",
     "output_type": "stream",
     "text": [
      "use: cuda:0\n"
     ]
    },
    {
     "name": "stderr",
     "output_type": "stream",
     "text": [
      "100%|██████████| 15/15 [00:30<00:00,  2.07s/it]\n",
      "2021-08-10 00:14:04,400 - pytorch_modeler.py - INFO - epoch:1/100, tr_loss:824.533411\n",
      "100%|██████████| 15/15 [00:38<00:00,  2.60s/it]\n",
      "2021-08-10 00:14:43,362 - pytorch_modeler.py - INFO - epoch:2/100, tr_loss:271.965588\n",
      "100%|██████████| 15/15 [00:32<00:00,  2.18s/it]\n",
      "2021-08-10 00:15:16,083 - pytorch_modeler.py - INFO - epoch:3/100, tr_loss:229.171229\n",
      "100%|██████████| 15/15 [00:28<00:00,  1.89s/it]\n",
      "2021-08-10 00:15:44,463 - pytorch_modeler.py - INFO - epoch:4/100, tr_loss:218.895060\n",
      "100%|██████████| 15/15 [00:27<00:00,  1.85s/it]\n",
      "2021-08-10 00:16:12,235 - pytorch_modeler.py - INFO - epoch:5/100, tr_loss:209.930502\n",
      "100%|██████████| 15/15 [00:31<00:00,  2.07s/it]\n",
      "2021-08-10 00:16:43,269 - pytorch_modeler.py - INFO - epoch:6/100, tr_loss:203.024511\n",
      "100%|██████████| 15/15 [00:30<00:00,  2.02s/it]\n",
      "2021-08-10 00:17:13,626 - pytorch_modeler.py - INFO - epoch:7/100, tr_loss:198.754214\n",
      "100%|██████████| 15/15 [00:27<00:00,  1.84s/it]\n",
      "2021-08-10 00:17:41,271 - pytorch_modeler.py - INFO - epoch:8/100, tr_loss:194.751916\n",
      "100%|██████████| 15/15 [00:28<00:00,  1.91s/it]\n",
      "2021-08-10 00:18:09,907 - pytorch_modeler.py - INFO - epoch:9/100, tr_loss:190.710196\n",
      "100%|██████████| 15/15 [00:29<00:00,  1.99s/it]\n",
      "2021-08-10 00:18:39,711 - pytorch_modeler.py - INFO - epoch:10/100, tr_loss:187.186807\n",
      "100%|██████████| 15/15 [00:29<00:00,  1.95s/it]\n",
      "2021-08-10 00:19:08,923 - pytorch_modeler.py - INFO - epoch:11/100, tr_loss:182.295302\n",
      "100%|██████████| 15/15 [00:28<00:00,  1.91s/it]\n",
      "2021-08-10 00:19:37,571 - pytorch_modeler.py - INFO - epoch:12/100, tr_loss:180.779270\n",
      "100%|██████████| 15/15 [00:29<00:00,  1.95s/it]\n",
      "2021-08-10 00:20:06,857 - pytorch_modeler.py - INFO - epoch:13/100, tr_loss:177.722276\n",
      "100%|██████████| 15/15 [00:29<00:00,  1.96s/it]\n",
      "2021-08-10 00:20:36,269 - pytorch_modeler.py - INFO - epoch:14/100, tr_loss:174.977787\n",
      "100%|██████████| 15/15 [00:27<00:00,  1.83s/it]\n",
      "2021-08-10 00:21:03,698 - pytorch_modeler.py - INFO - epoch:15/100, tr_loss:173.326285\n",
      " 67%|██████▋   | 10/15 [00:19<00:10,  2.02s/it]"
     ]
    }
   ],
   "source": [
    "for machine_type in machine_types:\n",
    "    run(machine_type, dev_paths)"
   ]
  }
 ],
 "metadata": {
  "kernelspec": {
   "display_name": "Environment (conda_dcase2021_task2)",
   "language": "python",
   "name": "conda_dcase2021_task2"
  },
  "language_info": {
   "codemirror_mode": {
    "name": "ipython",
    "version": 3
   },
   "file_extension": ".py",
   "mimetype": "text/x-python",
   "name": "python",
   "nbconvert_exporter": "python",
   "pygments_lexer": "ipython3",
   "version": "3.8.8"
  },
  "toc": {
   "base_numbering": 1,
   "nav_menu": {},
   "number_sections": true,
   "sideBar": true,
   "skip_h1_title": false,
   "title_cell": "Table of Contents",
   "title_sidebar": "Contents",
   "toc_cell": false,
   "toc_position": {},
   "toc_section_display": true,
   "toc_window_display": false
  }
 },
 "nbformat": 4,
 "nbformat_minor": 4
}
