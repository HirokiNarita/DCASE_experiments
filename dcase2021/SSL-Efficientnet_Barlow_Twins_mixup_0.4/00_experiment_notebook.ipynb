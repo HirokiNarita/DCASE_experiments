{
 "cells": [
  {
   "cell_type": "markdown",
   "metadata": {},
   "source": [
    "# train"
   ]
  },
  {
   "cell_type": "code",
   "execution_count": 1,
   "metadata": {},
   "outputs": [
    {
     "name": "stderr",
     "output_type": "stream",
     "text": [
      "<ipython-input-1-1499ab5789c7>:5: YAMLLoadWarning: calling yaml.load() without Loader=... is deprecated, as the default Loader is unsafe. Please read https://msg.pyyaml.org/load for full details.\n",
      "  config = yaml.load(f)\n"
     ]
    }
   ],
   "source": [
    "import yaml\n",
    "import os\n",
    "\n",
    "with open(\"./config.yaml\", 'rb') as f:\n",
    "    config = yaml.load(f)"
   ]
  },
  {
   "cell_type": "code",
   "execution_count": 2,
   "metadata": {},
   "outputs": [],
   "source": [
    "OUTPUT_ROOT = config['IO_OPTION']['OUTPUT_ROOT']\n",
    "os.makedirs(OUTPUT_ROOT, exist_ok=True)"
   ]
  },
  {
   "cell_type": "markdown",
   "metadata": {},
   "source": [
    "## load library"
   ]
  },
  {
   "cell_type": "code",
   "execution_count": 3,
   "metadata": {},
   "outputs": [],
   "source": [
    "# python default library\n",
    "import os\n",
    "import shutil\n",
    "import datetime\n",
    "import sys\n",
    "import pickle\n",
    "\n",
    "# general analysis tool-kit\n",
    "import numpy as np\n",
    "import pandas as pd\n",
    "#from sklearn.model_selection import train_test_split\n",
    "import matplotlib.pyplot as plt\n",
    "import seaborn as sns\n",
    "\n",
    "# pytorch\n",
    "import torch\n",
    "from torch import optim, nn\n",
    "from torch.utils.tensorboard import SummaryWriter\n",
    "import timm\n",
    "#from torchvision.models import wide_resnet50_2, resnet18\n",
    "#from torchsummary import summary\n",
    "\n",
    "# etc\n",
    "import yaml\n",
    "yaml.warnings({'YAMLLoadWarning': False})\n",
    "\n",
    "# original library\n",
    "sys.path.append('/home/hiroki/research/dcase2021_task2/src/functions')\n",
    "import common as com\n",
    "import pytorch_modeler as modeler\n",
    "from pytorch_model import EfficientNet_b1 as Model\n",
    "#from pytorch_utils import filtered_load_model\n",
    "#import models\n",
    "\n",
    "import librosa\n",
    "import IPython\n",
    "import librosa.display"
   ]
  },
  {
   "cell_type": "code",
   "execution_count": 4,
   "metadata": {},
   "outputs": [],
   "source": [
    "#model = timm.create_model('efficientnet_b1', pretrained=True)\n",
    "#3, 320, 320\n",
    "#name: (channel_multiplier, depth_multiplier, resolution, dropout_rate)\n",
    "#(1.4, 1.8, 380, 0.4)"
   ]
  },
  {
   "cell_type": "code",
   "execution_count": 5,
   "metadata": {},
   "outputs": [],
   "source": [
    "#model.blocks[0][0]"
   ]
  },
  {
   "cell_type": "markdown",
   "metadata": {},
   "source": [
    "## load config and set logger"
   ]
  },
  {
   "cell_type": "code",
   "execution_count": 6,
   "metadata": {},
   "outputs": [],
   "source": [
    "log_folder = config['IO_OPTION']['OUTPUT_ROOT']+'/{0}.log'.format(datetime.date.today())\n",
    "logger = com.setup_logger(log_folder, '00_train.py')"
   ]
  },
  {
   "cell_type": "markdown",
   "metadata": {},
   "source": [
    "## Setting"
   ]
  },
  {
   "cell_type": "code",
   "execution_count": 7,
   "metadata": {},
   "outputs": [],
   "source": [
    "# Setting seed\n",
    "modeler.set_seed(42)"
   ]
  },
  {
   "cell_type": "code",
   "execution_count": 8,
   "metadata": {},
   "outputs": [
    {
     "data": {
      "text/plain": [
       "'/media/hiroki/HDD1TB/research/DCASE_experiments/SSL-Efficientnet_Barlow_Twins_mixup_0.4/dcase2021_task2/config.yaml'"
      ]
     },
     "execution_count": 8,
     "metadata": {},
     "output_type": "execute_result"
    }
   ],
   "source": [
    "############################################################################\n",
    "# Setting I/O path\n",
    "############################################################################\n",
    "# input dirs\n",
    "INPUT_ROOT = config['IO_OPTION']['INPUT_ROOT']\n",
    "dev_dir = INPUT_ROOT + \"/dev_data\"\n",
    "add_dev_dir = INPUT_ROOT + \"/add_dev_data\"\n",
    "# machine type\n",
    "machine_types = os.listdir(dev_dir)\n",
    "# output dirs\n",
    "OUTPUT_ROOT = config['IO_OPTION']['OUTPUT_ROOT']\n",
    "MODEL_DIR = config['IO_OPTION']['OUTPUT_ROOT'] + '/models'\n",
    "TB_DIR = config['IO_OPTION']['OUTPUT_ROOT'] + '/tb'\n",
    "OUT_FEATURE_DIR = OUTPUT_ROOT + '/extraction_features'\n",
    "#os.makedirs(OUTPUT_ROOT, exist_ok=True)\n",
    "os.makedirs(MODEL_DIR, exist_ok=True)\n",
    "os.makedirs(TB_DIR, exist_ok=True)\n",
    "os.makedirs(OUT_FEATURE_DIR, exist_ok=True)\n",
    "# copy config\n",
    "shutil.copy('./config.yaml', OUTPUT_ROOT)"
   ]
  },
  {
   "cell_type": "code",
   "execution_count": 9,
   "metadata": {},
   "outputs": [
    {
     "data": {
      "text/plain": [
       "True"
      ]
     },
     "execution_count": 9,
     "metadata": {},
     "output_type": "execute_result"
    }
   ],
   "source": [
    "torch.cuda.is_available()"
   ]
  },
  {
   "cell_type": "markdown",
   "metadata": {},
   "source": [
    "## make path list"
   ]
  },
  {
   "cell_type": "markdown",
   "metadata": {},
   "source": [
    "- __train_paths__ ([dict]): Each Machine Type\n",
    "    - __ToyCar__ ([dict]): Each dataset\n",
    "        - train ([list]) : paths\n",
    "        - valid_source ([list]) : paths\n",
    "        - valid_target ([list]) :paths\n",
    "    - __ToyTrain__ ([dict]): Each dataset\n",
    "        - train ([list]) : paths\n",
    "        - valid_source ([list]) : paths\n",
    "        - valid_target ([list]) : paths\n",
    "    - ..."
   ]
  },
  {
   "cell_type": "code",
   "execution_count": 10,
   "metadata": {},
   "outputs": [
    {
     "name": "stdout",
     "output_type": "stream",
     "text": [
      "Machine fan,dev_train_size : 3009, source_size : 3000, target_size : 9, adddev_train_size : 3009, source_size : 3000, target_size : 9\n",
      "==============================================================\n",
      "Machine gearbox,dev_train_size : 3026, source_size : 3017, target_size : 9, adddev_train_size : 3026, source_size : 3105, target_size : 9\n",
      "==============================================================\n",
      "Machine pump,dev_train_size : 3009, source_size : 3000, target_size : 9, adddev_train_size : 3009, source_size : 3000, target_size : 9\n",
      "==============================================================\n",
      "Machine slider,dev_train_size : 3009, source_size : 3000, target_size : 9, adddev_train_size : 3009, source_size : 3000, target_size : 9\n",
      "==============================================================\n",
      "Machine ToyCar,dev_train_size : 3009, source_size : 3000, target_size : 9, adddev_train_size : 3009, source_size : 3000, target_size : 9\n",
      "==============================================================\n",
      "Machine ToyTrain,dev_train_size : 3009, source_size : 3000, target_size : 9, adddev_train_size : 3009, source_size : 3000, target_size : 9\n",
      "==============================================================\n",
      "Machine valve,dev_train_size : 3009, source_size : 3000, target_size : 9, adddev_train_size : 3009, source_size : 3000, target_size : 9\n",
      "==============================================================\n"
     ]
    }
   ],
   "source": [
    "dev_paths = {}\n",
    "\n",
    "for machine_type in machine_types:\n",
    "    # dev train\n",
    "    dev_train_paths = [f\"{dev_dir}/{machine_type}/train/\" + file for file in os.listdir(f\"{dev_dir}/{machine_type}/train\")]\n",
    "    dev_train_paths = sorted(dev_train_paths)\n",
    "    \n",
    "    print(f'Machine {machine_type}', end=',')\n",
    "    print(f'dev_train_size : {len(dev_train_paths)}', end=', ')\n",
    "    dev_train_source_paths = [path for path in dev_train_paths if 'source' in path]\n",
    "    print(f'source_size : {len(dev_train_source_paths)}', end=', ')\n",
    "    dev_train_target_paths = [path for path in dev_train_paths if 'target' in path]\n",
    "    print(f'target_size : {len(dev_train_target_paths)}', end=', ')\n",
    "    # source mode\n",
    "    dev_train_paths = dev_train_source_paths + dev_train_target_paths\n",
    "    \n",
    "    # add_dev train\n",
    "    add_dev_paths = [f\"{add_dev_dir}/{machine_type}/train/\" + file for file in os.listdir(f\"{add_dev_dir}/{machine_type}/train\")]\n",
    "    add_dev_paths = sorted(add_dev_paths)\n",
    "    print(f'adddev_train_size : {len(dev_train_paths)}', end=', ')\n",
    "    add_dev_source_paths = [path for path in add_dev_paths if 'source' in path]\n",
    "    print(f'source_size : {len(add_dev_source_paths)}', end=', ')\n",
    "    add_dev_target_paths = [path for path in add_dev_paths if 'target' in path]\n",
    "    print(f'target_size : {len(add_dev_target_paths)}')\n",
    "    # source mode\n",
    "    add_dev_paths = add_dev_source_paths + add_dev_target_paths\n",
    "    print('==============================================================')\n",
    "    \n",
    "    # dev_source valid\n",
    "    dev_source_paths = [f\"{dev_dir}/{machine_type}/source_test/\" + file for file in os.listdir(f\"{dev_dir}/{machine_type}/source_test\")]\n",
    "    dev_source_paths = sorted(dev_source_paths)\n",
    "    \n",
    "    # dev_target valid\n",
    "    dev_target_paths = [f\"{dev_dir}/{machine_type}/target_test/\" + file for file in os.listdir(f\"{dev_dir}/{machine_type}/target_test\")]\n",
    "    dev_target_paths = sorted(dev_target_paths)\n",
    "    \n",
    "    # bundle\n",
    "    dev_paths[machine_type] = {}\n",
    "    dev_paths[machine_type]['train'] = dev_train_paths + add_dev_paths\n",
    "    dev_paths[machine_type]['valid_source'] = dev_source_paths\n",
    "    dev_paths[machine_type]['valid_target'] = dev_target_paths"
   ]
  },
  {
   "cell_type": "code",
   "execution_count": 11,
   "metadata": {},
   "outputs": [
    {
     "data": {
      "text/plain": [
       "['fan', 'gearbox', 'pump', 'slider', 'ToyCar', 'ToyTrain', 'valve']"
      ]
     },
     "execution_count": 11,
     "metadata": {},
     "output_type": "execute_result"
    }
   ],
   "source": [
    "machine_types"
   ]
  },
  {
   "cell_type": "code",
   "execution_count": 12,
   "metadata": {},
   "outputs": [],
   "source": [
    "#############################################################################\n",
    "# run\n",
    "#############################################################################\n",
    "def run(machine_type, dev_paths):\n",
    "    com.tic()\n",
    "    os.makedirs(TB_DIR+'/'+machine_type, exist_ok=True)\n",
    "    tb_log_dir = TB_DIR + '/' + machine_type\n",
    "    writer = SummaryWriter(log_dir = tb_log_dir)\n",
    "    \n",
    "    logger.info('TARGET MACHINE_TYPE: {0}'.format(machine_type))\n",
    "    logger.info('MAKE DATA_LOADER')\n",
    "    # dev_train_paths\n",
    "    dataloaders_dict = modeler.make_dataloader(dev_paths, machine_type)\n",
    "    # parameter setting\n",
    "    logger.info('FEATURE EXTRACTION')\n",
    "    net = Model(n_out=config['param']['mel_bins'])\n",
    "    optimizer = optim.Adam(net.parameters(), lr=config['param']['lr'])\n",
    "    #scheduler = torch.optim.lr_scheduler.OneCycleLR(optimizer, max_lr=0.001, steps_per_epoch=len(dataloaders_dict['train']), epochs=config['param']['num_epochs'])\n",
    "    output_dicts = modeler.train_net(net, dataloaders_dict, writer, optimizer)\n",
    "    \n",
    "    out_path = f'{MODEL_DIR}/{machine_type}_model.pkl'\n",
    "    torch.save(output_dicts['net'], out_path)\n",
    "    logger.info(f'SAVE SUCCESS : {out_path}')\n",
    "    \n",
    "    com.toc()"
   ]
  },
  {
   "cell_type": "markdown",
   "metadata": {},
   "source": [
    "# run"
   ]
  },
  {
   "cell_type": "code",
   "execution_count": null,
   "metadata": {
    "code_folding": [],
    "scrolled": true
   },
   "outputs": [
    {
     "name": "stderr",
     "output_type": "stream",
     "text": [
      "2021-08-12 19:56:39,199 - 00_train.py - INFO - TARGET MACHINE_TYPE: fan\n",
      "2021-08-12 19:56:39,199 - 00_train.py - INFO - MAKE DATA_LOADER\n",
      "2021-08-12 19:56:39,200 - 00_train.py - INFO - FEATURE EXTRACTION\n"
     ]
    },
    {
     "name": "stdout",
     "output_type": "stream",
     "text": [
      "use: cuda:0\n"
     ]
    },
    {
     "name": "stderr",
     "output_type": "stream",
     "text": [
      "100%|██████████| 48/48 [00:33<00:00,  1.42it/s]\n",
      "2021-08-12 19:57:16,194 - pytorch_modeler.py - INFO - epoch:1/100, tr_loss:56509.099060\n",
      "100%|██████████| 48/48 [00:31<00:00,  1.54it/s]\n",
      "2021-08-12 19:57:47,338 - pytorch_modeler.py - INFO - epoch:2/100, tr_loss:52626.110657\n",
      "100%|██████████| 48/48 [00:34<00:00,  1.39it/s]\n",
      "2021-08-12 19:58:21,813 - pytorch_modeler.py - INFO - epoch:3/100, tr_loss:47910.675842\n",
      "100%|██████████| 48/48 [00:31<00:00,  1.53it/s]\n",
      "2021-08-12 19:58:53,187 - pytorch_modeler.py - INFO - epoch:4/100, tr_loss:47378.466919\n",
      "100%|██████████| 48/48 [00:28<00:00,  1.67it/s]\n",
      "2021-08-12 19:59:21,959 - pytorch_modeler.py - INFO - epoch:5/100, tr_loss:44991.154114\n",
      "100%|██████████| 48/48 [00:29<00:00,  1.65it/s]\n",
      "2021-08-12 19:59:50,983 - pytorch_modeler.py - INFO - epoch:6/100, tr_loss:43442.563232\n",
      "100%|██████████| 48/48 [00:32<00:00,  1.48it/s]\n",
      "2021-08-12 20:00:23,471 - pytorch_modeler.py - INFO - epoch:7/100, tr_loss:42627.245789\n",
      "100%|██████████| 48/48 [00:29<00:00,  1.63it/s]\n",
      "2021-08-12 20:00:52,863 - pytorch_modeler.py - INFO - epoch:8/100, tr_loss:40961.499817\n",
      "100%|██████████| 48/48 [00:29<00:00,  1.63it/s]\n",
      "2021-08-12 20:01:22,224 - pytorch_modeler.py - INFO - epoch:9/100, tr_loss:39825.998230\n",
      "100%|██████████| 48/48 [00:28<00:00,  1.66it/s]\n",
      "2021-08-12 20:01:51,125 - pytorch_modeler.py - INFO - epoch:10/100, tr_loss:38384.592957\n",
      "100%|██████████| 48/48 [00:28<00:00,  1.66it/s]\n",
      "2021-08-12 20:02:20,098 - pytorch_modeler.py - INFO - epoch:11/100, tr_loss:37098.618896\n",
      "100%|██████████| 48/48 [00:32<00:00,  1.46it/s]\n",
      "2021-08-12 20:02:53,056 - pytorch_modeler.py - INFO - epoch:12/100, tr_loss:37199.761353\n",
      "100%|██████████| 48/48 [00:29<00:00,  1.62it/s]\n",
      "2021-08-12 20:03:22,639 - pytorch_modeler.py - INFO - epoch:13/100, tr_loss:36235.908325\n",
      "100%|██████████| 48/48 [00:30<00:00,  1.57it/s]\n",
      "2021-08-12 20:03:53,297 - pytorch_modeler.py - INFO - epoch:14/100, tr_loss:35158.568054\n",
      "100%|██████████| 48/48 [00:29<00:00,  1.62it/s]\n",
      "2021-08-12 20:04:23,005 - pytorch_modeler.py - INFO - epoch:15/100, tr_loss:34897.017761\n",
      "100%|██████████| 48/48 [00:30<00:00,  1.59it/s]\n",
      "2021-08-12 20:04:53,256 - pytorch_modeler.py - INFO - epoch:16/100, tr_loss:33722.317322\n",
      "100%|██████████| 48/48 [00:30<00:00,  1.57it/s]\n",
      "2021-08-12 20:05:23,799 - pytorch_modeler.py - INFO - epoch:17/100, tr_loss:34304.603271\n",
      "100%|██████████| 48/48 [00:30<00:00,  1.59it/s]\n",
      "2021-08-12 20:05:53,920 - pytorch_modeler.py - INFO - epoch:18/100, tr_loss:32474.161743\n",
      "100%|██████████| 48/48 [00:30<00:00,  1.56it/s]\n",
      "2021-08-12 20:06:24,707 - pytorch_modeler.py - INFO - epoch:19/100, tr_loss:31939.308289\n",
      "100%|██████████| 48/48 [00:32<00:00,  1.47it/s]\n",
      "2021-08-12 20:06:57,452 - pytorch_modeler.py - INFO - epoch:20/100, tr_loss:32385.098694\n",
      "100%|██████████| 48/48 [00:31<00:00,  1.52it/s]\n",
      "2021-08-12 20:07:29,009 - pytorch_modeler.py - INFO - epoch:21/100, tr_loss:31060.293762\n",
      "100%|██████████| 48/48 [00:32<00:00,  1.49it/s]\n",
      "2021-08-12 20:08:01,153 - pytorch_modeler.py - INFO - epoch:22/100, tr_loss:31000.627502\n",
      "100%|██████████| 48/48 [00:33<00:00,  1.45it/s]\n",
      "2021-08-12 20:08:34,207 - pytorch_modeler.py - INFO - epoch:23/100, tr_loss:31054.368408\n",
      "100%|██████████| 48/48 [00:31<00:00,  1.53it/s]\n",
      "2021-08-12 20:09:05,618 - pytorch_modeler.py - INFO - epoch:24/100, tr_loss:30587.251099\n",
      "100%|██████████| 48/48 [00:29<00:00,  1.62it/s]\n",
      "2021-08-12 20:09:35,221 - pytorch_modeler.py - INFO - epoch:25/100, tr_loss:28910.744873\n",
      "100%|██████████| 48/48 [00:30<00:00,  1.55it/s]\n",
      "2021-08-12 20:10:06,104 - pytorch_modeler.py - INFO - epoch:26/100, tr_loss:28417.509033\n",
      "100%|██████████| 48/48 [00:30<00:00,  1.57it/s]\n",
      "2021-08-12 20:10:36,764 - pytorch_modeler.py - INFO - epoch:27/100, tr_loss:28566.021118\n",
      "100%|██████████| 48/48 [00:31<00:00,  1.55it/s]\n",
      "2021-08-12 20:11:07,796 - pytorch_modeler.py - INFO - epoch:28/100, tr_loss:28159.493286\n",
      "100%|██████████| 48/48 [00:32<00:00,  1.46it/s]\n",
      "2021-08-12 20:11:40,785 - pytorch_modeler.py - INFO - epoch:29/100, tr_loss:28408.300415\n",
      "100%|██████████| 48/48 [00:31<00:00,  1.53it/s]\n",
      "2021-08-12 20:12:12,164 - pytorch_modeler.py - INFO - epoch:30/100, tr_loss:28286.576813\n",
      "100%|██████████| 48/48 [00:32<00:00,  1.48it/s]\n",
      "2021-08-12 20:12:44,622 - pytorch_modeler.py - INFO - epoch:31/100, tr_loss:27527.359741\n",
      "100%|██████████| 48/48 [00:32<00:00,  1.47it/s]\n",
      "2021-08-12 20:13:17,294 - pytorch_modeler.py - INFO - epoch:32/100, tr_loss:27990.076172\n",
      "100%|██████████| 48/48 [00:31<00:00,  1.51it/s]\n",
      "2021-08-12 20:13:49,115 - pytorch_modeler.py - INFO - epoch:33/100, tr_loss:27042.404175\n",
      "100%|██████████| 48/48 [00:31<00:00,  1.52it/s]\n",
      "2021-08-12 20:14:20,752 - pytorch_modeler.py - INFO - epoch:34/100, tr_loss:26833.890686\n",
      "100%|██████████| 48/48 [00:31<00:00,  1.54it/s]\n",
      "2021-08-12 20:14:51,851 - pytorch_modeler.py - INFO - epoch:35/100, tr_loss:25813.167114\n",
      "100%|██████████| 48/48 [00:32<00:00,  1.50it/s]\n",
      "2021-08-12 20:15:23,888 - pytorch_modeler.py - INFO - epoch:36/100, tr_loss:25529.208893\n",
      "100%|██████████| 48/48 [00:31<00:00,  1.52it/s]\n",
      "2021-08-12 20:15:55,410 - pytorch_modeler.py - INFO - epoch:37/100, tr_loss:24224.975433\n",
      "100%|██████████| 48/48 [00:32<00:00,  1.49it/s]\n",
      "2021-08-12 20:16:27,664 - pytorch_modeler.py - INFO - epoch:38/100, tr_loss:23236.920380\n",
      "100%|██████████| 48/48 [00:30<00:00,  1.57it/s]\n",
      "2021-08-12 20:16:58,309 - pytorch_modeler.py - INFO - epoch:39/100, tr_loss:23343.652679\n",
      "100%|██████████| 48/48 [00:30<00:00,  1.55it/s]\n",
      "2021-08-12 20:17:29,189 - pytorch_modeler.py - INFO - epoch:40/100, tr_loss:23647.584076\n",
      "100%|██████████| 48/48 [00:30<00:00,  1.58it/s]\n",
      "2021-08-12 20:17:59,532 - pytorch_modeler.py - INFO - epoch:41/100, tr_loss:23675.104767\n",
      "100%|██████████| 48/48 [00:31<00:00,  1.53it/s]\n",
      "2021-08-12 20:18:30,879 - pytorch_modeler.py - INFO - epoch:42/100, tr_loss:23201.493805\n",
      "100%|██████████| 48/48 [00:30<00:00,  1.57it/s]\n",
      "2021-08-12 20:19:01,413 - pytorch_modeler.py - INFO - epoch:43/100, tr_loss:22495.383972\n",
      "100%|██████████| 48/48 [00:30<00:00,  1.58it/s]\n",
      "2021-08-12 20:19:31,735 - pytorch_modeler.py - INFO - epoch:44/100, tr_loss:23806.651855\n",
      "100%|██████████| 48/48 [00:31<00:00,  1.52it/s]\n",
      "2021-08-12 20:20:03,230 - pytorch_modeler.py - INFO - epoch:45/100, tr_loss:22058.011993\n",
      "100%|██████████| 48/48 [00:31<00:00,  1.53it/s]\n",
      "2021-08-12 20:20:34,584 - pytorch_modeler.py - INFO - epoch:46/100, tr_loss:22957.927124\n",
      "100%|██████████| 48/48 [00:31<00:00,  1.53it/s]\n",
      "2021-08-12 20:21:05,898 - pytorch_modeler.py - INFO - epoch:47/100, tr_loss:22765.506531\n",
      "100%|██████████| 48/48 [00:30<00:00,  1.58it/s]\n",
      "2021-08-12 20:21:36,215 - pytorch_modeler.py - INFO - epoch:48/100, tr_loss:21797.678833\n",
      "100%|██████████| 48/48 [00:31<00:00,  1.53it/s]\n",
      "2021-08-12 20:22:07,657 - pytorch_modeler.py - INFO - epoch:49/100, tr_loss:22646.309418\n",
      " 48%|████▊     | 23/48 [00:14<00:15,  1.60it/s]"
     ]
    }
   ],
   "source": [
    "for machine_type in machine_types:\n",
    "    run(machine_type, dev_paths)"
   ]
  }
 ],
 "metadata": {
  "kernelspec": {
   "display_name": "Environment (conda_dcase2021_task2)",
   "language": "python",
   "name": "conda_dcase2021_task2"
  },
  "language_info": {
   "codemirror_mode": {
    "name": "ipython",
    "version": 3
   },
   "file_extension": ".py",
   "mimetype": "text/x-python",
   "name": "python",
   "nbconvert_exporter": "python",
   "pygments_lexer": "ipython3",
   "version": "3.8.8"
  },
  "toc": {
   "base_numbering": 1,
   "nav_menu": {},
   "number_sections": true,
   "sideBar": true,
   "skip_h1_title": false,
   "title_cell": "Table of Contents",
   "title_sidebar": "Contents",
   "toc_cell": false,
   "toc_position": {},
   "toc_section_display": true,
   "toc_window_display": false
  }
 },
 "nbformat": 4,
 "nbformat_minor": 4
}
